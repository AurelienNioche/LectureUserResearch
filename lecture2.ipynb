{
 "cells": [
  {
   "cell_type": "markdown",
   "metadata": {},
   "source": [
    "<img src=\"img/decisionmaking.png\" width=\"400\">"
   ]
  },
  {
   "cell_type": "markdown",
   "metadata": {
    "pycharm": {
     "name": "#%% md\n"
    }
   },
   "source": [
    "<p style=\"font-size:35px\">ELEC-E7890 - User Research<br></p>\n",
    "<p style=\"font-size:30px\">Lecture 2 - User Study Design</p>"
   ]
  },
  {
   "cell_type": "markdown",
   "metadata": {},
   "source": [
    "**Aurélien Nioche**\n",
    "\n",
    "Aalto University"
   ]
  },
  {
   "cell_type": "markdown",
   "metadata": {},
   "source": [
    "<div class=\"alert alert-block alert-success\">\n",
    "<h2><img src=\"img/logo/goal.png\" width=\"20\" align=\"left\"><a class=\"tocSkip\"></a>&nbsp;Learning objectives</h2>\n",
    "    <br>Learn by a series of examples the elementary rules of experimentation, and the main threats to validity\n",
    "</div>"
   ]
  },
  {
   "cell_type": "markdown",
   "metadata": {},
   "source": [
    "# Define a research problem &amp; the hypothesis"
   ]
  },
  {
   "cell_type": "markdown",
   "metadata": {},
   "source": [
    "The research problem constitutes the **question(s)** you aim to answer.\n",
    "\n",
    "The hypothesis constitute(s) the **answer(s)** to this(these) possible question(s)."
   ]
  },
  {
   "cell_type": "markdown",
   "metadata": {},
   "source": [
    "<div class=\"alert alert-block alert-danger\">\n",
    "<h2><img src=\"img/logo/warning.png\" width=\"20\" align=\"left\"><a class=\"tocSkip\"></a>&nbsp;Important</h2>\n",
    "    <br>Strong restriction: the hypothesis has to be a <b>falsifiable</b> statement (<a href=\"https://plato.stanford.edu/entries/popper/\" class=\"alert-link\">Popper</a>, 1959 as a response to the problem of induction of <a href=\"https://plato.stanford.edu/entries/hume/\" class=\"alert-link\">Hume</a>, 1739-40)</div>"
   ]
  },
  {
   "cell_type": "markdown",
   "metadata": {},
   "source": [
    "For a contextualized explanation, you can refer to the <a href=\"https://plato.stanford.edu/entries/scientific-method/#PopFal\">Stanford Encyclopedia</a>: Andersen, Hanne and Brian Hepburn, \"Scientific Method\", The Stanford Encyclopedia of Philosophy (Summer 2016 Edition), Edward N. Zalta (ed.), URL = <https://plato.stanford.edu/archives/sum2016/entries/scientific-method/>."
   ]
  },
  {
   "cell_type": "markdown",
   "metadata": {},
   "source": [
    "H: \"All swans are white\"\n",
    "<img src=\"img/all_white.jpg\" width=\"300\">"
   ]
  },
  {
   "cell_type": "markdown",
   "metadata": {},
   "source": [
    "<img src=\"img/all_white_but_one.jpg\" width=\"300\">"
   ]
  },
  {
   "cell_type": "markdown",
   "metadata": {},
   "source": [
    "---\n",
    "\n",
    "H: \"Most people do not really want freedom, because freedom involves responsibility, and most people are frightened of responsibility.\"\n",
    "\n",
    "Is this statement falsifiable?"
   ]
  },
  {
   "cell_type": "markdown",
   "metadata": {},
   "source": [
    "---\n",
    "\n",
    "Examples of **non falsifiable statements**:\n",
    "* **tautologies**\n",
    "* **vague open-ended statements**\n",
    "---\n"
   ]
  },
  {
   "cell_type": "markdown",
   "metadata": {},
   "source": [
    "\n",
    "<i>Note: do not cofound *working* hypothesis and *testing* hypothesis</i>"
   ]
  },
  {
   "cell_type": "markdown",
   "metadata": {},
   "source": [
    "<div class=\"alert alert-block alert-danger\">\n",
    "<h2><img src=\"img/logo/warning.png\" width=\"20\" align=\"left\"><a class=\"tocSkip\"></a>&nbsp;Important</h2>\n",
    "    <br>Be aware of the <b>confirmation</b> bias</div>"
   ]
  },
  {
   "cell_type": "markdown",
   "metadata": {},
   "source": [
    "<img src=\"img/science_vs_creationism.png\" width=\"500\">"
   ]
  },
  {
   "cell_type": "markdown",
   "metadata": {},
   "source": [
    "...but even using a scientific method, we can be tempted...\n",
    "<img src=\"img/comics_conf.jpg\" width=\"600\">"
   ]
  },
  {
   "cell_type": "markdown",
   "metadata": {},
   "source": [
    "# Operationalize"
   ]
  },
  {
   "cell_type": "markdown",
   "metadata": {},
   "source": [
    "> **Operationalize**: express or define (something) in terms of the operations used to determine or prove it."
   ]
  },
  {
   "cell_type": "markdown",
   "metadata": {},
   "source": [
    "<div class=\"alert alert-block alert-info\"> Differentiate:\n",
    "    <ul>\n",
    "        <li> <b>Dependent</b> variable: what we <b>measure</b>\n",
    "        <li> <b>Independent</b> variable: what we <b>manipulate</b>\n",
    "    </ul>\n",
    "    </div>"
   ]
  },
  {
   "cell_type": "markdown",
   "metadata": {},
   "source": [
    "Let's take an example: \n",
    "\n",
    "---\n",
    "\n",
    "Let's assume that I want to test the hypothesis that the gain in speed using a **swipe typing keyboard** is depending on the age of the user."
   ]
  },
  {
   "cell_type": "markdown",
   "metadata": {},
   "source": [
    "<img src=\"img/swiping_typing.jpg\" width=\"300\">"
   ]
  },
  {
   "cell_type": "markdown",
   "metadata": {},
   "source": [
    "Several operationalizations are possible but here is one:\n",
    "* Dependent variable: Word Per Minute (WPS) on a typing test.\n",
    "* Independent variable: Age group (15-20, 20-25, etc.)."
   ]
  },
  {
   "cell_type": "markdown",
   "metadata": {},
   "source": [
    "*Note: they can be several dependant and independant variables*\n",
    "\n",
    "---"
   ]
  },
  {
   "cell_type": "markdown",
   "metadata": {},
   "source": [
    "An **experiment** is a **comparison**, so..."
   ]
  },
  {
   "cell_type": "markdown",
   "metadata": {},
   "source": [
    "<div class=\"alert alert-block alert-danger\">\n",
    "<h2><img src=\"img/logo/warning.png\" width=\"20\" align=\"left\"><a class=\"tocSkip\"></a>&nbsp;Important</h2>\n",
    "    <br>\n",
    "    Choose carefully your <b>baseline</b> and your <b>control</b>, in order to have interpretable results.\n",
    "    </div>"
   ]
  },
  {
   "cell_type": "markdown",
   "metadata": {},
   "source": [
    "**Why it is important?** Let's take an example..."
   ]
  },
  {
   "cell_type": "markdown",
   "metadata": {
    "heading_collapsed": true
   },
   "source": [
    "### Example <a class=\"tocSkip\"></a>"
   ]
  },
  {
   "cell_type": "markdown",
   "metadata": {
    "hidden": true
   },
   "source": [
    "...the <a href=\"https://www.nature.com/articles/365611a0\"> Mozart effect </a>"
   ]
  },
  {
   "cell_type": "markdown",
   "metadata": {
    "hidden": true
   },
   "source": [
    "<img src=\"img/mozart.png\" width=\"300\">"
   ]
  },
  {
   "cell_type": "markdown",
   "metadata": {
    "heading_collapsed": true
   },
   "source": [
    "# Choose the experimental design"
   ]
  },
  {
   "cell_type": "markdown",
   "metadata": {
    "hidden": true
   },
   "source": [
    "<div class=\"alert alert-block alert-danger\">\n",
    "<h2><img src=\"img/logo/warning.png\" width=\"20\" align=\"left\"><a class=\"tocSkip\"></a>&nbsp;Important</h2>\n",
    "    <br>\n",
    "    Differentiate:\n",
    "    <ul>\n",
    "        <li> <b>between</b> subjects design\n",
    "        <li> <b>within</b> subjects design\n",
    "    </ul>\n",
    "    </div>"
   ]
  },
  {
   "cell_type": "markdown",
   "metadata": {
    "hidden": true
   },
   "source": [
    "<img src=\"img/experimental_design.png\" width=\"900\">"
   ]
  },
  {
   "cell_type": "markdown",
   "metadata": {
    "hidden": true
   },
   "source": [
    "To make it short...\n",
    "<br>\n",
    "Do you expect large variability in your subjects?\n",
    "* <b>No</b>: between subjects\n",
    "* <b>Yes</b>: whithin subjects"
   ]
  },
  {
   "cell_type": "markdown",
   "metadata": {
    "hidden": true
   },
   "source": [
    "If you choose \"<b>yes</b>\", be aware of possible <a href=\"https://dictionary.apa.org/confound\"><b>counfound factors</b></a>, such as the <a href=\"https://dictionary.apa.org/order-effect\">order effect</a>\n",
    "\n",
    "---"
   ]
  },
  {
   "cell_type": "markdown",
   "metadata": {
    "hidden": true
   },
   "source": [
    "For a more in-depth comparison, see for instance <a href=\"https://rady.ucsd.edu/docs/faculty/Gneezy_jebo_between.pdf\">Charness et al. (2012). Experimental methods: Between-subject and within-subject design. <i>Journal of Economic Behavior & Organization</i>.</a>"
   ]
  },
  {
   "cell_type": "markdown",
   "metadata": {
    "heading_collapsed": true
   },
   "source": [
    "# Collect the data"
   ]
  },
  {
   "cell_type": "markdown",
   "metadata": {
    "hidden": true
   },
   "source": [
    "<div class=\"alert alert-block alert-danger\">\n",
    "<h2><img src=\"img/logo/warning.png\" width=\"20\" align=\"left\"><a class=\"tocSkip\"></a>&nbsp;Important</h2>\n",
    "    <br>\n",
    "    Choose carefully your <b>sample</b>, i.e., be aware of <b> selection bias </b>\n",
    "    </div>"
   ]
  },
  {
   "cell_type": "markdown",
   "metadata": {
    "hidden": true
   },
   "source": [
    "Even where you would not have expect them, a lot of differences can come from (arbitrary order):\n",
    "1. **age**\n",
    "2. **gender**\n",
    "3. **cultural background / ethnicity**\n",
    "4. **education**\n",
    "5. level of **expertise** of X or Y than can interfere with your experimental task"
   ]
  },
  {
   "cell_type": "markdown",
   "metadata": {
    "hidden": true
   },
   "source": [
    "**Why it is important?** Let's take an example..."
   ]
  },
  {
   "cell_type": "markdown",
   "metadata": {
    "heading_collapsed": true,
    "hidden": true
   },
   "source": [
    "### Example <a class=\"tocSkip\"></a>"
   ]
  },
  {
   "cell_type": "markdown",
   "metadata": {
    "hidden": true
   },
   "source": [
    "<img src=\"img/weird1.png\" width=\"500\">\n",
    "<img src=\"img/weird2.png\" width=\"500\">"
   ]
  },
  {
   "cell_type": "markdown",
   "metadata": {
    "hidden": true
   },
   "source": [
    "You should definitely look at <a href=\"https://doi.org/10.1017/S0140525X0999152X\">Heinrich et al. (2010). The weirdest people in the world? Behavioral and Brain Sciences.</a>, or in a very short version <a href=\"https://www.nature.com/articles/466029a?page=9\">Heinrich et al. (2010). Most people are not WEIRD. Nature.</a>"
   ]
  },
  {
   "cell_type": "markdown",
   "metadata": {},
   "source": [
    "# Analyze and interpret the data"
   ]
  },
  {
   "cell_type": "markdown",
   "metadata": {},
   "source": [
    "How to go from <b>observations</b> to <b>interpretations</b> to answer (or contributes to the understanding to) your <b>research problem</b>"
   ]
  },
  {
   "cell_type": "markdown",
   "metadata": {},
   "source": [
    "## Look at the raw data"
   ]
  },
  {
   "cell_type": "markdown",
   "metadata": {},
   "source": [
    "<div class=\"alert alert-block alert-danger\">\n",
    "<h2><img src=\"img/logo/warning.png\" width=\"20\" align=\"left\"><a class=\"tocSkip\"></a>&nbsp;Important</h2>\n",
    "    <br>\n",
    "    Look at your <b>raw data first</b>\n",
    "    </div>"
   ]
  },
  {
   "cell_type": "markdown",
   "metadata": {},
   "source": [
    "**Why it is important?** Let's take an example..."
   ]
  },
  {
   "cell_type": "markdown",
   "metadata": {},
   "source": [
    "### Example <a class=\"tocSkip\"></a>"
   ]
  },
  {
   "cell_type": "markdown",
   "metadata": {},
   "source": [
    "#### Dataset 1 <a class=\"tocSkip\"></a>"
   ]
  },
  {
   "cell_type": "markdown",
   "metadata": {},
   "source": [
    "Let's load the data from `circle-data.csv`"
   ]
  },
  {
   "cell_type": "markdown",
   "metadata": {},
   "source": [
    "##### Code <a class=\"tocSkip\"></a>"
   ]
  },
  {
   "cell_type": "code",
   "execution_count": 2,
   "metadata": {},
   "outputs": [],
   "source": [
    "# Import the libraries\n",
    "import pandas as pd\n",
    "import os\n",
    "import seaborn as sns\n",
    "import matplotlib.pyplot as plt\n",
    "import numpy as np\n",
    "import scipy.stats as stats\n",
    "import scipy.special as sps  # For gamma function\n",
    "\n",
    "%config InlineBackend.figure_format='retina'\n",
    "sns.set_context(\"notebook\")"
   ]
  },
  {
   "cell_type": "code",
   "execution_count": 84,
   "metadata": {},
   "outputs": [
    {
     "data": {
      "text/html": [
       "<div>\n",
       "<style scoped>\n",
       "    .dataframe tbody tr th:only-of-type {\n",
       "        vertical-align: middle;\n",
       "    }\n",
       "\n",
       "    .dataframe tbody tr th {\n",
       "        vertical-align: top;\n",
       "    }\n",
       "\n",
       "    .dataframe thead th {\n",
       "        text-align: right;\n",
       "    }\n",
       "</style>\n",
       "<table border=\"1\" class=\"dataframe\">\n",
       "  <thead>\n",
       "    <tr style=\"text-align: right;\">\n",
       "      <th></th>\n",
       "      <th>x</th>\n",
       "      <th>y</th>\n",
       "    </tr>\n",
       "  </thead>\n",
       "  <tbody>\n",
       "    <tr>\n",
       "      <th>0</th>\n",
       "      <td>53.500480</td>\n",
       "      <td>82.351329</td>\n",
       "    </tr>\n",
       "    <tr>\n",
       "      <th>1</th>\n",
       "      <td>50.629577</td>\n",
       "      <td>84.715953</td>\n",
       "    </tr>\n",
       "    <tr>\n",
       "      <th>2</th>\n",
       "      <td>49.932717</td>\n",
       "      <td>79.284252</td>\n",
       "    </tr>\n",
       "    <tr>\n",
       "      <th>3</th>\n",
       "      <td>48.788095</td>\n",
       "      <td>81.244959</td>\n",
       "    </tr>\n",
       "    <tr>\n",
       "      <th>4</th>\n",
       "      <td>49.496214</td>\n",
       "      <td>78.992123</td>\n",
       "    </tr>\n",
       "    <tr>\n",
       "      <th>...</th>\n",
       "      <td>...</td>\n",
       "      <td>...</td>\n",
       "    </tr>\n",
       "    <tr>\n",
       "      <th>137</th>\n",
       "      <td>39.580304</td>\n",
       "      <td>21.216219</td>\n",
       "    </tr>\n",
       "    <tr>\n",
       "      <th>138</th>\n",
       "      <td>85.303704</td>\n",
       "      <td>41.078480</td>\n",
       "    </tr>\n",
       "    <tr>\n",
       "      <th>139</th>\n",
       "      <td>51.310546</td>\n",
       "      <td>84.395317</td>\n",
       "    </tr>\n",
       "    <tr>\n",
       "      <th>140</th>\n",
       "      <td>50.594653</td>\n",
       "      <td>81.292113</td>\n",
       "    </tr>\n",
       "    <tr>\n",
       "      <th>141</th>\n",
       "      <td>48.743542</td>\n",
       "      <td>82.405670</td>\n",
       "    </tr>\n",
       "  </tbody>\n",
       "</table>\n",
       "<p>142 rows × 2 columns</p>\n",
       "</div>"
      ],
      "text/plain": [
       "             x          y\n",
       "0    53.500480  82.351329\n",
       "1    50.629577  84.715953\n",
       "2    49.932717  79.284252\n",
       "3    48.788095  81.244959\n",
       "4    49.496214  78.992123\n",
       "..         ...        ...\n",
       "137  39.580304  21.216219\n",
       "138  85.303704  41.078480\n",
       "139  51.310546  84.395317\n",
       "140  50.594653  81.292113\n",
       "141  48.743542  82.405670\n",
       "\n",
       "[142 rows x 2 columns]"
      ]
     },
     "execution_count": 84,
     "metadata": {},
     "output_type": "execute_result"
    }
   ],
   "source": [
    "# Load the data\n",
    "df = pd.read_csv(\n",
    "    os.path.join(\"data\", \"circle-data.csv\"),\n",
    "    index_col=[0])\n",
    "\n",
    "# Print the top of the file\n",
    "df"
   ]
  },
  {
   "cell_type": "markdown",
   "metadata": {},
   "source": [
    "You could be tempted to begin to compute descriptive statistics such as mean instead of looking to your data..."
   ]
  },
  {
   "cell_type": "code",
   "execution_count": 85,
   "metadata": {},
   "outputs": [
    {
     "name": "stdout",
     "output_type": "stream",
     "text": [
      "Mean 'x': 54.27 +/- 16.70 STD\n",
      "Mean 'y': 47.83 +/- 26.84 STD\n"
     ]
    }
   ],
   "source": [
    "# For both variables\n",
    "for var in \"x\", \"y\":\n",
    "    \n",
    "    # Compute the mean and variance and print the result showing only 2 digits after the comma\n",
    "    print(f\"Mean '{var}': {np.mean(df[var]):.2f} +/- {np.std(df[var]):.2f} STD\")"
   ]
  },
  {
   "cell_type": "markdown",
   "metadata": {},
   "source": [
    "And still without looking at the raw data, let's do a barplot:"
   ]
  },
  {
   "cell_type": "markdown",
   "metadata": {
    "heading_collapsed": true
   },
   "source": [
    "##### Visualize with a simple bareplot <a class=\"tocSkip\"></a>"
   ]
  },
  {
   "cell_type": "code",
   "execution_count": 86,
   "metadata": {
    "hidden": true,
    "scrolled": true
   },
   "outputs": [
    {
     "data": {
      "image/png": "[encoded data removed]",
      "text/plain": [
       "<Figure size 432x288 with 1 Axes>"
      ]
     },
     "metadata": {
      "needs_background": "light"
     },
     "output_type": "display_data"
    }
   ],
   "source": [
    "# Let's flip the dataframe (inverse row and columns)\n",
    "df_flipped = df.melt()\n",
    "# Do a barplot\n",
    "sns.barplot(x=\"variable\", y=\"value\", data=df_flipped, ci=\"sd\")\n",
    "plt.title(\"Dataset 1\")\n",
    "plt.show()"
   ]
  },
  {
   "cell_type": "markdown",
   "metadata": {
    "heading_collapsed": true
   },
   "source": [
    "#### Dataset 2 <a class=\"tocSkip\"></a>"
   ]
  },
  {
   "cell_type": "markdown",
   "metadata": {
    "hidden": true
   },
   "source": [
    "Let's consider a second dataset..."
   ]
  },
  {
   "cell_type": "markdown",
   "metadata": {
    "hidden": true
   },
   "source": [
    "Let's load the data from `dino-data.csv`"
   ]
  },
  {
   "cell_type": "markdown",
   "metadata": {
    "heading_collapsed": true,
    "hidden": true
   },
   "source": [
    "##### Code <a class=\"tocSkip\"></a>"
   ]
  },
  {
   "cell_type": "code",
   "execution_count": 87,
   "metadata": {
    "hidden": true
   },
   "outputs": [
    {
     "data": {
      "text/html": [
       "<div>\n",
       "<style scoped>\n",
       "    .dataframe tbody tr th:only-of-type {\n",
       "        vertical-align: middle;\n",
       "    }\n",
       "\n",
       "    .dataframe tbody tr th {\n",
       "        vertical-align: top;\n",
       "    }\n",
       "\n",
       "    .dataframe thead th {\n",
       "        text-align: right;\n",
       "    }\n",
       "</style>\n",
       "<table border=\"1\" class=\"dataframe\">\n",
       "  <thead>\n",
       "    <tr style=\"text-align: right;\">\n",
       "      <th></th>\n",
       "      <th>x</th>\n",
       "      <th>y</th>\n",
       "    </tr>\n",
       "  </thead>\n",
       "  <tbody>\n",
       "    <tr>\n",
       "      <th>0</th>\n",
       "      <td>55.384600</td>\n",
       "      <td>97.179500</td>\n",
       "    </tr>\n",
       "    <tr>\n",
       "      <th>1</th>\n",
       "      <td>51.538500</td>\n",
       "      <td>96.025600</td>\n",
       "    </tr>\n",
       "    <tr>\n",
       "      <th>2</th>\n",
       "      <td>46.153800</td>\n",
       "      <td>94.487200</td>\n",
       "    </tr>\n",
       "    <tr>\n",
       "      <th>3</th>\n",
       "      <td>42.820500</td>\n",
       "      <td>91.410300</td>\n",
       "    </tr>\n",
       "    <tr>\n",
       "      <th>4</th>\n",
       "      <td>40.769200</td>\n",
       "      <td>88.333300</td>\n",
       "    </tr>\n",
       "    <tr>\n",
       "      <th>...</th>\n",
       "      <td>...</td>\n",
       "      <td>...</td>\n",
       "    </tr>\n",
       "    <tr>\n",
       "      <th>137</th>\n",
       "      <td>39.487200</td>\n",
       "      <td>25.384600</td>\n",
       "    </tr>\n",
       "    <tr>\n",
       "      <th>138</th>\n",
       "      <td>91.282100</td>\n",
       "      <td>41.538500</td>\n",
       "    </tr>\n",
       "    <tr>\n",
       "      <th>139</th>\n",
       "      <td>50.000000</td>\n",
       "      <td>95.769200</td>\n",
       "    </tr>\n",
       "    <tr>\n",
       "      <th>140</th>\n",
       "      <td>47.948700</td>\n",
       "      <td>95.000000</td>\n",
       "    </tr>\n",
       "    <tr>\n",
       "      <th>141</th>\n",
       "      <td>44.168231</td>\n",
       "      <td>92.657053</td>\n",
       "    </tr>\n",
       "  </tbody>\n",
       "</table>\n",
       "<p>142 rows × 2 columns</p>\n",
       "</div>"
      ],
      "text/plain": [
       "             x          y\n",
       "0    55.384600  97.179500\n",
       "1    51.538500  96.025600\n",
       "2    46.153800  94.487200\n",
       "3    42.820500  91.410300\n",
       "4    40.769200  88.333300\n",
       "..         ...        ...\n",
       "137  39.487200  25.384600\n",
       "138  91.282100  41.538500\n",
       "139  50.000000  95.769200\n",
       "140  47.948700  95.000000\n",
       "141  44.168231  92.657053\n",
       "\n",
       "[142 rows x 2 columns]"
      ]
     },
     "execution_count": 87,
     "metadata": {},
     "output_type": "execute_result"
    }
   ],
   "source": [
    "# Load the data\n",
    "df_other = pd.read_csv(\n",
    "    os.path.join(\"data\", \"dino-data.csv\"),\n",
    "    index_col=[0])\n",
    "\n",
    "# Look at the top of the file\n",
    "df_other"
   ]
  },
  {
   "cell_type": "code",
   "execution_count": 90,
   "metadata": {
    "hidden": true,
    "scrolled": true
   },
   "outputs": [
    {
     "name": "stdout",
     "output_type": "stream",
     "text": [
      "Dataset 1 - Mean 'x': 54.3 +/- 16.70 STD\n",
      "Dataset 1 - Mean 'y': 47.8 +/- 26.84 STD\n",
      "\n",
      "Dataset 2 - Mean 'x': 54.3 +/- 16.71 STD\n",
      "Dataset 2 - Mean 'y': 47.8 +/- 26.84 STD\n"
     ]
    }
   ],
   "source": [
    "# For both variables...\n",
    "for var in (\"x\", \"y\"):\n",
    "    \n",
    "    # Print the means and variances for the original dataset\n",
    "    print(f\"Dataset 1 - Mean '{var}': {np.mean(df[var]):.1f} +/- {np.std(df[var]):.2f} STD\")\n",
    "print()\n",
    "\n",
    "# For both variables...\n",
    "for var in (\"x\", \"y\"):\n",
    "    \n",
    "    # Print the means and variances for the second dataset\n",
    "    print(f\"Dataset 2 - Mean '{var}': {np.mean(df_other[var]):.1f} +/- {np.std(df_other[var]):.2f} STD\")"
   ]
  },
  {
   "cell_type": "markdown",
   "metadata": {
    "heading_collapsed": true,
    "hidden": true
   },
   "source": [
    "##### Visualize with a simple bareplot <a class=\"tocSkip\"></a>"
   ]
  },
  {
   "cell_type": "code",
   "execution_count": 25,
   "metadata": {
    "hidden": true,
    "scrolled": true
   },
   "outputs": [
    {
     "data": {
      "image/png": "[encoded data removed]",
      "text/plain": [
       "<Figure size 432x288 with 1 Axes>"
      ]
     },
     "metadata": {
      "needs_background": "light"
     },
     "output_type": "display_data"
    }
   ],
   "source": [
    "# Do a barplot\n",
    "sns.barplot(x=\"variable\", y=\"value\", data=df_other.melt(), ci=\"sd\")\n",
    "plt.title(\"Dataset 2\")\n",
    "plt.show()"
   ]
  },
  {
   "cell_type": "markdown",
   "metadata": {
    "heading_collapsed": true
   },
   "source": [
    "#### Compare by looking at the raw data <a class=\"tocSkip\"></a>"
   ]
  },
  {
   "cell_type": "markdown",
   "metadata": {
    "hidden": true
   },
   "source": [
    "They look quite alike, isn't it?"
   ]
  },
  {
   "cell_type": "code",
   "execution_count": 105,
   "metadata": {
    "hidden": true,
    "scrolled": true
   },
   "outputs": [
    {
     "data": {
      "image/png": "[encoded data removed]",
      "text/plain": [
       "<Figure size 432x288 with 2 Axes>"
      ]
     },
     "metadata": {
      "needs_background": "light"
     },
     "output_type": "display_data"
    }
   ],
   "source": [
    "# Create figure and axes\n",
    "fig, axes = plt.subplots(ncols=2)\n",
    "\n",
    "# Dot the left barplot\n",
    "sns.barplot(x=\"variable\", y=\"value\", data=df.melt(), ax=axes[0], ci=\"sd\")\n",
    "# Set the title\n",
    "axes[0].set_title(\"Original dataset\")\n",
    "\n",
    "# Do the right barplot\n",
    "sns.barplot(x=\"variable\", y=\"value\", data=df_other.melt(), ax=axes[1], ci=\"sd\")\n",
    "# Set the title\n",
    "axes[1].set_title(\"Other dataset\")\n",
    "\n",
    "plt.tight_layout()\n",
    "plt.show()"
   ]
  },
  {
   "cell_type": "markdown",
   "metadata": {
    "hidden": true
   },
   "source": [
    "However..."
   ]
  },
  {
   "cell_type": "code",
   "execution_count": 23,
   "metadata": {
    "hidden": true
   },
   "outputs": [
    {
     "data": {
      "image/png": "[encoded data removed]",
      "text/plain": [
       "<Figure size 864x648 with 2 Axes>"
      ]
     },
     "metadata": {
      "needs_background": "light"
     },
     "output_type": "display_data"
    }
   ],
   "source": [
    "# Create figure and axes\n",
    "fig, axes = plt.subplots(ncols=2, figsize=(12, 9))\n",
    "\n",
    "\n",
    "# For both dataset\n",
    "for i, (label, data) in enumerate(((\"Dataset 1\", df), (\"Dataset 2\", df_other))):\n",
    "    \n",
    "    # Do a scatter plot\n",
    "    ax = axes[i]\n",
    "    sns.scatterplot(x=\"x\", y=\"y\", data=data, ax=ax)\n",
    "    \n",
    "    # Set the title\n",
    "    ax.set_title(label)\n",
    "    \n",
    "    # Set the limits of the axes\n",
    "    ax.set_xlim(0, 100)\n",
    "    ax.set_ylim(0, 100)\n",
    "    \n",
    "    # Make it look square\n",
    "    ax.set_aspect(1)\n",
    "\n",
    "plt.tight_layout()\n",
    "plt.show()"
   ]
  },
  {
   "cell_type": "markdown",
   "metadata": {
    "hidden": true
   },
   "source": [
    "> The descriptive statistics are (almost identical) but the distributions are very different. **Look at your raw data first!**"
   ]
  },
  {
   "cell_type": "markdown",
   "metadata": {
    "hidden": true
   },
   "source": [
    "A few more like this:"
   ]
  },
  {
   "cell_type": "markdown",
   "metadata": {
    "hidden": true
   },
   "source": [
    "<img src=\"img/same_stats_fig5.png\" width=\"700\">"
   ]
  },
  {
   "cell_type": "markdown",
   "metadata": {
    "hidden": true
   },
   "source": [
    "<img src=\"img/same_stats_fig6.png\" width=\"600\">"
   ]
  },
  {
   "cell_type": "markdown",
   "metadata": {
    "hidden": true
   },
   "source": [
    "*Note: you can find a lot of astonishing examples in [Matejka, J., & Fitzmaurice, G. (2017, May). Same stats, different graphs: generating datasets with varied appearance and identical statistics through simulated annealing. In Proceedings of the 2017 CHI Conference on Human Factors in Computing Systems (pp. 1290-1294)](https://www.autodeskresearch.com/publications/samestats).*"
   ]
  },
  {
   "cell_type": "markdown",
   "metadata": {},
   "source": [
    "## Compute descriptive statistics"
   ]
  },
  {
   "cell_type": "markdown",
   "metadata": {},
   "source": [
    "**Descriptive statistics**  (by opposition to *inferential statistics*) allow to summarize the observations in your sample."
   ]
  },
  {
   "cell_type": "markdown",
   "metadata": {},
   "source": [
    "<div class=\"alert alert-block alert-danger\">\n",
    "<h2><img src=\"img/logo/warning.png\" width=\"20\" align=\"left\"><a class=\"tocSkip\"></a>&nbsp;Important</h2>\n",
    "    <br>\n",
    "    Always represent a <b>dispersion</b> measure of your data (e.g., standard deviation)\n",
    "    </div>"
   ]
  },
  {
   "cell_type": "markdown",
   "metadata": {},
   "source": [
    "**Why is it important?** Let's take an example!"
   ]
  },
  {
   "cell_type": "markdown",
   "metadata": {
    "heading_collapsed": true
   },
   "source": [
    "### Example <a class=\"tocSkip\"></a>"
   ]
  },
  {
   "cell_type": "markdown",
   "metadata": {
    "heading_collapsed": true,
    "hidden": true
   },
   "source": [
    "#### Generate data <a class=\"tocSkip\"></a>"
   ]
  },
  {
   "cell_type": "code",
   "execution_count": 33,
   "metadata": {
    "hidden": true
   },
   "outputs": [],
   "source": [
    "# Seed the random number generator\n",
    "np.random.seed(4)\n",
    "\n",
    "# Set the parameters\n",
    "mean_1 = 150.0\n",
    "mean_2 = 200.0\n",
    "\n",
    "small_std = 10.0\n",
    "large_std = 50.0\n",
    "\n",
    "n = 100"
   ]
  },
  {
   "cell_type": "code",
   "execution_count": 34,
   "metadata": {
    "hidden": true
   },
   "outputs": [
    {
     "name": "stdout",
     "output_type": "stream",
     "text": [
      "val1_small_std (3 first values): [152.52808536 174.99756666 100.20455344]\n",
      "val2_small_std (3 first values): [236.91235556 232.53766155 230.73703148]\n",
      "val1_large_std (3 first values): [145.27337184 150.96267944 162.29213395]\n",
      "val2_large_std (3 first values): [211.9451626  195.01279275 199.19260386]\n"
     ]
    }
   ],
   "source": [
    "# Create the samples\n",
    "val1_small_std = np.random.normal(mean_1, scale=large_std, size=n)\n",
    "val2_small_std = np.random.normal(mean_2, scale=large_std, size=n)\n",
    "\n",
    "val1_large_std = np.random.normal(mean_1, scale=small_std, size=n)\n",
    "val2_large_std = np.random.normal(mean_2, scale=small_std, size=n)\n",
    "\n",
    "# Print a few values\n",
    "print(\"val1_small_std (3 first values):\", val1_small_std[:3])\n",
    "print(\"val2_small_std (3 first values):\", val2_small_std[:3])\n",
    "print(\"val1_large_std (3 first values):\", val1_large_std[:3])\n",
    "print(\"val2_large_std (3 first values):\", val2_large_std[:3])"
   ]
  },
  {
   "cell_type": "markdown",
   "metadata": {
    "heading_collapsed": true,
    "hidden": true
   },
   "source": [
    "#### Visualize the distribution <a class=\"tocSkip\"></a>"
   ]
  },
  {
   "cell_type": "code",
   "execution_count": 36,
   "metadata": {
    "hidden": true
   },
   "outputs": [
    {
     "data": {
      "image/png": "[encoded data removed]",
      "text/plain": [
       "<Figure size 1152x648 with 4 Axes>"
      ]
     },
     "metadata": {
      "needs_background": "light"
     },
     "output_type": "display_data"
    }
   ],
   "source": [
    "# Create figure and axes\n",
    "fig, axes = plt.subplots(ncols=2, nrows=2, figsize=(16, 9))\n",
    "\n",
    "# For each dataset (containing each two samples)\n",
    "for i, (val1, val2) in enumerate(((val1_large_std, val2_large_std),\n",
    "                                  (val1_small_std, val2_small_std))):\n",
    "\n",
    "    # Create histograms\n",
    "    ax = axes[i, 0]\n",
    "    sns.histplot(x=val1, ax=ax, color=\"C0\", kde=False, alpha=0.5, lw=0)\n",
    "    sns.histplot(x=val2, ax=ax, color=\"C1\", kde=False, alpha=0.5, lw=0)\n",
    "    \n",
    "    # Plot the theoretical mean\n",
    "    ax.axvline(mean_1, ls='--', color='black', alpha=0.1, lw=2)\n",
    "    ax.axvline(mean_2, ls='--', color='black', alpha=0.1, lw=2)\n",
    "    \n",
    "    # Set the axis lables\n",
    "    ax.set_ylabel(\"Proportion\")\n",
    "    ax.set_xlabel(\"value\")\n",
    "\n",
    "    # Create a barplot\n",
    "    ax = axes[i, 1]\n",
    "    df = pd.DataFrame({\"x\": val1, \"y\": val2}).melt()\n",
    "    sns.barplot(x=\"variable\", y=\"value\", ax=ax, data=df, ci=\"sd\")\n",
    "    \n",
    "    # Add horizontal lines representing the means\n",
    "    ax.axhline(mean_1, ls='--', color='black', alpha=0.1, lw=2)\n",
    "    ax.axhline(mean_2, ls='--', color='black', alpha=0.1, lw=2)\n",
    "    \n",
    "    # Set the y limits\n",
    "    ax.set_ylim(0, max(mean_1, mean_2) + large_std * 1.25)\n",
    "\n",
    "plt.tight_layout()\n",
    "plt.show()"
   ]
  },
  {
   "cell_type": "markdown",
   "metadata": {
    "hidden": true
   },
   "source": [
    "> The difference of means are identical but the dispersions are different. In one case, it seems adequate to consider that there is a difference between $X$ and $Y$, while it is not that evident in the other. **Always look at the dispersion** (STD/variance)!"
   ]
  },
  {
   "cell_type": "markdown",
   "metadata": {
    "heading_collapsed": true
   },
   "source": [
    "## Compute inferential statistics"
   ]
  },
  {
   "cell_type": "markdown",
   "metadata": {
    "hidden": true
   },
   "source": [
    "**What for?** To reply to the question:"
   ]
  },
  {
   "cell_type": "markdown",
   "metadata": {
    "hidden": true
   },
   "source": [
    " > Can we generalize what we observe in our sample to the parent population?"
   ]
  },
  {
   "cell_type": "markdown",
   "metadata": {
    "hidden": true
   },
   "source": [
    "<img src=\"img/inferential_statistics.png\" width=\"500\">"
   ]
  },
  {
   "cell_type": "markdown",
   "metadata": {
    "hidden": true
   },
   "source": [
    "Several test exist depending on the distribution of your data, the experimental design, and more generally the conditions of applications of each test:\n",
    "* the [t-test](https://docs.scipy.org/doc/scipy/reference/generated/scipy.stats.ttest_ind.html#scipy.stats.ttest_ind),\n",
    "* the [Mann-Whitney rank test](https://docs.scipy.org/doc/scipy/reference/generated/scipy.stats.mannwhitneyu.html#scipy.stats.mannwhitneyu)\n",
    "* the [chi-squared test](https://docs.scipy.org/doc/scipy/reference/generated/scipy.stats.chisquare.html#scipy.stats.chisquare)\n",
    "* ...\n",
    "\n",
    "Each of those gives a probability (**p-value**) to reject the [null-hypothesis](https://en.wikipedia.org/wiki/Exclusion_of_the_null_hypothesis) by mistake."
   ]
  },
  {
   "cell_type": "markdown",
   "metadata": {
    "hidden": true
   },
   "source": [
    "<div class=\"alert alert-block alert-danger\">\n",
    "<h2><img src=\"img/logo/warning.png\" width=\"20\" align=\"left\"><a class=\"tocSkip\"></a>&nbsp;Important</h2>\n",
    "    <br>\n",
    "    A statistical test have <b>conditions</b> of application\n",
    "</div>"
   ]
  },
  {
   "cell_type": "markdown",
   "metadata": {
    "heading_collapsed": true,
    "hidden": true
   },
   "source": [
    "### Example of application<a class=\"tocSkip\"></a>"
   ]
  },
  {
   "cell_type": "markdown",
   "metadata": {
    "hidden": true
   },
   "source": [
    "Let's re-use the data from the previous example..."
   ]
  },
  {
   "cell_type": "markdown",
   "metadata": {
    "heading_collapsed": true,
    "hidden": true
   },
   "source": [
    "#### Visualize the data <a class=\"tocSkip\"></a>"
   ]
  },
  {
   "cell_type": "code",
   "execution_count": 48,
   "metadata": {
    "hidden": true,
    "scrolled": false
   },
   "outputs": [
    {
     "data": {
      "image/png": "[encoded data removed]",
      "text/plain": [
       "<Figure size 1152x648 with 4 Axes>"
      ]
     },
     "metadata": {
      "needs_background": "light"
     },
     "output_type": "display_data"
    }
   ],
   "source": [
    "# Create figure and axes\n",
    "fig, axes = plt.subplots(ncols=2, nrows=2, figsize=(16, 9))\n",
    "\n",
    "# For each dataset (containing each two samples)\n",
    "for i, (val1, val2) in enumerate(((val1_large_std, val2_large_std),\n",
    "                                  (val1_small_std, val2_small_std))):\n",
    "\n",
    "    # Create histograms\n",
    "    ax = axes[i, 0]\n",
    "    sns.histplot(x=val1, ax=ax, color=\"C0\", kde=False, alpha=0.5, lw=0)\n",
    "    sns.histplot(x=val2, ax=ax, color=\"C1\", kde=False, alpha=0.5, lw=0)\n",
    "    \n",
    "    # Plot the theoretical mean\n",
    "    ax.axvline(mean_1, ls='--', color='black', alpha=0.1, lw=2)\n",
    "    ax.axvline(mean_2, ls='--', color='black', alpha=0.1, lw=2)\n",
    "    \n",
    "    # Set the axis lables\n",
    "    ax.set_ylabel(\"Proportion\")\n",
    "    ax.set_xlabel(\"value\")\n",
    "\n",
    "    # Create a barplot\n",
    "    ax = axes[i, 1]\n",
    "    df = pd.DataFrame({\"x\": val1, \"y\": val2}).melt()\n",
    "    sns.barplot(x=\"variable\", y=\"value\", ax=ax, data=df, ci=\"sd\")\n",
    "    \n",
    "    # Add horizontal lines representing the means\n",
    "    ax.axhline(mean_1, ls='--', color='black', alpha=0.1, lw=2)\n",
    "    ax.axhline(mean_2, ls='--', color='black', alpha=0.1, lw=2)\n",
    "    \n",
    "    # Set the y limits\n",
    "    ax.set_ylim(0, max(mean_1, mean_2) + large_std * 1.25)\n",
    "\n",
    "plt.tight_layout()\n",
    "plt.show()"
   ]
  },
  {
   "cell_type": "markdown",
   "metadata": {
    "heading_collapsed": true,
    "hidden": true
   },
   "source": [
    "#### Run test <a class=\"tocSkip\"></a>"
   ]
  },
  {
   "cell_type": "code",
   "execution_count": 49,
   "metadata": {
    "hidden": true
   },
   "outputs": [
    {
     "name": "stdout",
     "output_type": "stream",
     "text": [
      "t=-7.277602743357337, p=7.789522376440221e-12\n"
     ]
    }
   ],
   "source": [
    "# Run a Student's t-test\n",
    "t, p = stats.ttest_ind(val1_small_std, val2_small_std)\n",
    "\n",
    "# Print the results\n",
    "print(f\"t={t}, p={p}\")"
   ]
  },
  {
   "cell_type": "code",
   "execution_count": 50,
   "metadata": {
    "hidden": true
   },
   "outputs": [
    {
     "name": "stdout",
     "output_type": "stream",
     "text": [
      "t=-34.11619742828222, p=7.512953246606366e-85\n"
     ]
    }
   ],
   "source": [
    "# Run a Student's t-test\n",
    "t, p = stats.ttest_ind(val1_large_std, val2_large_std)\n",
    "\n",
    "# Print the results\n",
    "print(f\"t={t}, p={p}\")"
   ]
  },
  {
   "cell_type": "markdown",
   "metadata": {
    "hidden": true
   },
   "source": [
    "> It turns out that the $n$ is so large, that the difference is statistically significant. **Inferential statistics are a good tool to know if we could generalize what we observed** (STD/variance)!"
   ]
  },
  {
   "cell_type": "markdown",
   "metadata": {
    "heading_collapsed": true,
    "hidden": true
   },
   "source": [
    "### Intuition about the meaning of the p-value <a class=\"tocSkip\"></a>"
   ]
  },
  {
   "cell_type": "markdown",
   "metadata": {
    "hidden": true
   },
   "source": [
    "The p-value is **the probability to reject the null hypothesis by mistake.**\n",
    "\n",
    "So let's simulate and see how often I could be wrong..."
   ]
  },
  {
   "cell_type": "markdown",
   "metadata": {
    "heading_collapsed": true,
    "hidden": true
   },
   "source": [
    "#### Generate data <a class=\"tocSkip\"></a>"
   ]
  },
  {
   "cell_type": "code",
   "execution_count": 68,
   "metadata": {
    "hidden": true,
    "scrolled": false
   },
   "outputs": [
    {
     "data": {
      "text/html": [
       "<div>\n",
       "<style scoped>\n",
       "    .dataframe tbody tr th:only-of-type {\n",
       "        vertical-align: middle;\n",
       "    }\n",
       "\n",
       "    .dataframe tbody tr th {\n",
       "        vertical-align: top;\n",
       "    }\n",
       "\n",
       "    .dataframe thead th {\n",
       "        text-align: right;\n",
       "    }\n",
       "</style>\n",
       "<table border=\"1\" class=\"dataframe\">\n",
       "  <thead>\n",
       "    <tr style=\"text-align: right;\">\n",
       "      <th></th>\n",
       "      <th>x1</th>\n",
       "      <th>x2</th>\n",
       "    </tr>\n",
       "  </thead>\n",
       "  <tbody>\n",
       "    <tr>\n",
       "      <th>0</th>\n",
       "      <td>114.143055</td>\n",
       "      <td>127.472322</td>\n",
       "    </tr>\n",
       "    <tr>\n",
       "      <th>1</th>\n",
       "      <td>64.270729</td>\n",
       "      <td>143.992022</td>\n",
       "    </tr>\n",
       "    <tr>\n",
       "      <th>2</th>\n",
       "      <td>142.981209</td>\n",
       "      <td>140.215506</td>\n",
       "    </tr>\n",
       "    <tr>\n",
       "      <th>3</th>\n",
       "      <td>90.620443</td>\n",
       "      <td>127.117741</td>\n",
       "    </tr>\n",
       "    <tr>\n",
       "      <th>4</th>\n",
       "      <td>78.382338</td>\n",
       "      <td>139.057287</td>\n",
       "    </tr>\n",
       "    <tr>\n",
       "      <th>...</th>\n",
       "      <td>...</td>\n",
       "      <td>...</td>\n",
       "    </tr>\n",
       "    <tr>\n",
       "      <th>95</th>\n",
       "      <td>97.541588</td>\n",
       "      <td>84.107029</td>\n",
       "    </tr>\n",
       "    <tr>\n",
       "      <th>96</th>\n",
       "      <td>89.657020</td>\n",
       "      <td>100.331786</td>\n",
       "    </tr>\n",
       "    <tr>\n",
       "      <th>97</th>\n",
       "      <td>115.848644</td>\n",
       "      <td>163.349450</td>\n",
       "    </tr>\n",
       "    <tr>\n",
       "      <th>98</th>\n",
       "      <td>67.930336</td>\n",
       "      <td>127.302611</td>\n",
       "    </tr>\n",
       "    <tr>\n",
       "      <th>99</th>\n",
       "      <td>84.643561</td>\n",
       "      <td>46.907664</td>\n",
       "    </tr>\n",
       "  </tbody>\n",
       "</table>\n",
       "<p>100 rows × 2 columns</p>\n",
       "</div>"
      ],
      "text/plain": [
       "            x1          x2\n",
       "0   114.143055  127.472322\n",
       "1    64.270729  143.992022\n",
       "2   142.981209  140.215506\n",
       "3    90.620443  127.117741\n",
       "4    78.382338  139.057287\n",
       "..         ...         ...\n",
       "95   97.541588   84.107029\n",
       "96   89.657020  100.331786\n",
       "97  115.848644  163.349450\n",
       "98   67.930336  127.302611\n",
       "99   84.643561   46.907664\n",
       "\n",
       "[100 rows x 2 columns]"
      ]
     },
     "execution_count": 68,
     "metadata": {},
     "output_type": "execute_result"
    }
   ],
   "source": [
    "# Seed the random number generator\n",
    "np.random.seed(1234)\n",
    "\n",
    "# Set the parameters\n",
    "n = 100\n",
    "mu1, mu2 = 100, 110\n",
    "sigma1, sigma2 = 30, 60\n",
    "\n",
    "# Generate two samples\n",
    "x1 = np.random.normal(mu1, scale=sigma1, size=n)\n",
    "x2 = np.random.normal(mu2, scale=sigma2, size=n)\n",
    "\n",
    "# Look at the data\n",
    "pd.DataFrame(data={\"x1\": x1, \"x2\": x2})"
   ]
  },
  {
   "cell_type": "markdown",
   "metadata": {
    "heading_collapsed": true,
    "hidden": true
   },
   "source": [
    "#### Visualize data <a class=\"tocSkip\"></a>"
   ]
  },
  {
   "cell_type": "code",
   "execution_count": 69,
   "metadata": {
    "hidden": true,
    "scrolled": false
   },
   "outputs": [
    {
     "data": {
      "image/png": "[encoded data removed]",
      "text/plain": [
       "<Figure size 1152x288 with 2 Axes>"
      ]
     },
     "metadata": {
      "needs_background": "light"
     },
     "output_type": "display_data"
    }
   ],
   "source": [
    "# Create figure and axes\n",
    "fig, (ax1, ax2) = plt.subplots(ncols=2, figsize=(16, 4))\n",
    "\n",
    "# Create the histograms\n",
    "for (x, color) in ((x1, \"C0\"), (x2, \"C1\")):\n",
    "    sns.histplot(x, ax=ax1, color=color, linewidth=0, alpha=0.5, \n",
    "                 stat=\"density\")  # y-axis is density instead of counts\n",
    "\n",
    "# Put labels\n",
    "ax1.set_ylabel(\"Density\")\n",
    "ax1.set_xlabel(\"value\")\n",
    "\n",
    "# Plot the barplot\n",
    "df = pd.DataFrame({\"x1\": x1, \"x2\": x2}).melt(var_name=\"group\")\n",
    "sns.barplot(x=\"group\", y=\"value\", ax=ax2, data=df, ci=\"sd\")\n",
    "\n",
    "plt.tight_layout()\n",
    "plt.show()"
   ]
  },
  {
   "cell_type": "markdown",
   "metadata": {
    "hidden": true
   },
   "source": [
    "#### Run test <a class=\"tocSkip\"></a>"
   ]
  },
  {
   "cell_type": "code",
   "execution_count": 71,
   "metadata": {
    "hidden": true
   },
   "outputs": [
    {
     "name": "stdout",
     "output_type": "stream",
     "text": [
      "t = -0.8967917151340026, p = 0.37129608235308287\n"
     ]
    }
   ],
   "source": [
    "# Run a Welch t-test\n",
    "t, p = stats.ttest_ind(x1, x2, equal_var=False)\n",
    "\n",
    "# Print the results\n",
    "print(f\"t = {t}, p = {p}\")"
   ]
  },
  {
   "cell_type": "markdown",
   "metadata": {
    "hidden": true
   },
   "source": [
    "#### Reproduce test result<a class=\"tocSkip\"></a>"
   ]
  },
  {
   "cell_type": "markdown",
   "metadata": {
    "hidden": true
   },
   "source": [
    "...by looking at which frequency I observed the inverse difference "
   ]
  },
  {
   "cell_type": "code",
   "execution_count": 72,
   "metadata": {
    "hidden": true
   },
   "outputs": [],
   "source": [
    "# Compute the observed means for the two samples\n",
    "obs_mu1 = np.mean(x1)\n",
    "obs_mu2 = np.mean(x2)\n",
    "\n",
    "# Compute the observed standard deviations for the two samples\n",
    "obs_sigma1 = np.std(x1)  \n",
    "obs_sigma2 = np.std(x2)"
   ]
  },
  {
   "cell_type": "code",
   "execution_count": 73,
   "metadata": {
    "hidden": true
   },
   "outputs": [],
   "source": [
    "# Set the parameters\n",
    "n_dataset = 10000\n",
    "\n",
    "# Container for the results \n",
    "mu1_sup_mu2 = np.zeros(n_dataset)\n",
    "\n",
    "# Create data for each dataset\n",
    "for i in range(n_dataset):\n",
    "    \n",
    "    # Create two samples using parameters observed in the sample, and of the same size \n",
    "    x1 = np.random.normal(obs_mu1, scale=obs_sigma1, size=n)  \n",
    "    x2 = np.random.normal(obs_mu2, scale=obs_sigma2, size=n)\n",
    "    \n",
    "    # Look if observed mean for sample 1\n",
    "    # is superior for sample 2\n",
    "    r = np.mean(x1) > np.mean(x2)\n",
    "    \n",
    "    # Store the result \n",
    "    mu1_sup_mu2[i] = r\n",
    "\n",
    "# Compute the frequence with which \n",
    "# 'inverse' difference is observed\n",
    "err_freq = np.mean(mu1_sup_mu2)"
   ]
  },
  {
   "cell_type": "markdown",
   "metadata": {
    "heading_collapsed": true,
    "hidden": true
   },
   "source": [
    "#### Visualize the results <a class=\"tocSkip\"></a>"
   ]
  },
  {
   "cell_type": "code",
   "execution_count": 75,
   "metadata": {
    "hidden": true
   },
   "outputs": [
    {
     "data": {
      "image/png": "[encoded data removed]",
      "text/plain": [
       "<Figure size 432x288 with 1 Axes>"
      ]
     },
     "metadata": {
      "needs_background": "light"
     },
     "output_type": "display_data"
    }
   ],
   "source": [
    "# Create figure and axis\n",
    "fig, ax = plt.subplots()\n",
    "\n",
    "# Define labels\n",
    "labels = ['$\\mu1 > \\mu2$ (freq)', \"p-value / 2\"]\n",
    "\n",
    "# Defines values\n",
    "values = [err_freq, p/2]\n",
    "\n",
    "# Create barplot\n",
    "ax.bar(labels, values)\n",
    "\n",
    "# Set the limit of the y-axis\n",
    "ax.set_ylim(0, 0.5)\n",
    "\n",
    "plt.show()"
   ]
  },
  {
   "cell_type": "markdown",
   "metadata": {
    "heading_collapsed": true
   },
   "source": [
    "## Check for validity threats"
   ]
  },
  {
   "cell_type": "markdown",
   "metadata": {
    "hidden": true
   },
   "source": [
    "<div class=\"alert alert-block alert-info\">\n",
    "    Differentiate <b>internal</b> and <b>external</b> validity\n",
    "    </div>"
   ]
  },
  {
   "cell_type": "markdown",
   "metadata": {
    "hidden": true
   },
   "source": [
    "* <b>Internal</b>: relative to your data; are the manipulation that you did the (main) <b>cause</b> of what you observe?\n",
    "* <b>External</b>: relative to the relation between your data and the outside world; can we <b>generalize</b> what you observe?"
   ]
  },
  {
   "cell_type": "markdown",
   "metadata": {
    "heading_collapsed": true,
    "hidden": true
   },
   "source": [
    "### Correlation is not causation"
   ]
  },
  {
   "cell_type": "markdown",
   "metadata": {
    "hidden": true
   },
   "source": [
    "<div class=\"alert alert-block alert-danger\">\n",
    "<h2><img src=\"img/logo/warning.png\" width=\"20\" align=\"left\"><a class=\"tocSkip\"></a>&nbsp;Important</h2>\n",
    "    <br>\n",
    "    Remember that <b> correlation </b> does not <b>imply causation </b>\n",
    "</div>"
   ]
  },
  {
   "cell_type": "markdown",
   "metadata": {
    "hidden": true
   },
   "source": [
    "**Why it is important?** Let's take an example..."
   ]
  },
  {
   "cell_type": "markdown",
   "metadata": {
    "heading_collapsed": true,
    "hidden": true
   },
   "source": [
    "#### Example <a class=\"tocSkip\"></a>"
   ]
  },
  {
   "cell_type": "code",
   "execution_count": 45,
   "metadata": {
    "hidden": true
   },
   "outputs": [
    {
     "data": {
      "text/html": [
       "<div>\n",
       "<style scoped>\n",
       "    .dataframe tbody tr th:only-of-type {\n",
       "        vertical-align: middle;\n",
       "    }\n",
       "\n",
       "    .dataframe tbody tr th {\n",
       "        vertical-align: top;\n",
       "    }\n",
       "\n",
       "    .dataframe thead th {\n",
       "        text-align: right;\n",
       "    }\n",
       "</style>\n",
       "<table border=\"1\" class=\"dataframe\">\n",
       "  <thead>\n",
       "    <tr style=\"text-align: right;\">\n",
       "      <th></th>\n",
       "      <th>Per capita consumption of cheddar cheese (US) Pounds (USDA)</th>\n",
       "      <th>People killed by immunosuppressive agents Deaths (US) (CDC)</th>\n",
       "      <th>year</th>\n",
       "    </tr>\n",
       "  </thead>\n",
       "  <tbody>\n",
       "    <tr>\n",
       "      <th>0</th>\n",
       "      <td>9.7</td>\n",
       "      <td>7</td>\n",
       "      <td>2000</td>\n",
       "    </tr>\n",
       "    <tr>\n",
       "      <th>1</th>\n",
       "      <td>9.9</td>\n",
       "      <td>8</td>\n",
       "      <td>2001</td>\n",
       "    </tr>\n",
       "    <tr>\n",
       "      <th>2</th>\n",
       "      <td>9.6</td>\n",
       "      <td>3</td>\n",
       "      <td>2002</td>\n",
       "    </tr>\n",
       "    <tr>\n",
       "      <th>3</th>\n",
       "      <td>9.2</td>\n",
       "      <td>1</td>\n",
       "      <td>2003</td>\n",
       "    </tr>\n",
       "    <tr>\n",
       "      <th>4</th>\n",
       "      <td>10.3</td>\n",
       "      <td>24</td>\n",
       "      <td>2004</td>\n",
       "    </tr>\n",
       "    <tr>\n",
       "      <th>5</th>\n",
       "      <td>10.3</td>\n",
       "      <td>16</td>\n",
       "      <td>2005</td>\n",
       "    </tr>\n",
       "    <tr>\n",
       "      <th>6</th>\n",
       "      <td>10.4</td>\n",
       "      <td>14</td>\n",
       "      <td>2006</td>\n",
       "    </tr>\n",
       "    <tr>\n",
       "      <th>7</th>\n",
       "      <td>10.0</td>\n",
       "      <td>13</td>\n",
       "      <td>2007</td>\n",
       "    </tr>\n",
       "    <tr>\n",
       "      <th>8</th>\n",
       "      <td>10.1</td>\n",
       "      <td>15</td>\n",
       "      <td>2008</td>\n",
       "    </tr>\n",
       "    <tr>\n",
       "      <th>9</th>\n",
       "      <td>10.1</td>\n",
       "      <td>13</td>\n",
       "      <td>2009</td>\n",
       "    </tr>\n",
       "  </tbody>\n",
       "</table>\n",
       "</div>"
      ],
      "text/plain": [
       "   Per capita consumption of cheddar cheese (US) Pounds (USDA)  \\\n",
       "0                                                9.7             \n",
       "1                                                9.9             \n",
       "2                                                9.6             \n",
       "3                                                9.2             \n",
       "4                                               10.3             \n",
       "5                                               10.3             \n",
       "6                                               10.4             \n",
       "7                                               10.0             \n",
       "8                                               10.1             \n",
       "9                                               10.1             \n",
       "\n",
       "   People killed by immunosuppressive agents Deaths (US) (CDC)  year  \n",
       "0                                                  7            2000  \n",
       "1                                                  8            2001  \n",
       "2                                                  3            2002  \n",
       "3                                                  1            2003  \n",
       "4                                                 24            2004  \n",
       "5                                                 16            2005  \n",
       "6                                                 14            2006  \n",
       "7                                                 13            2007  \n",
       "8                                                 15            2008  \n",
       "9                                                 13            2009  "
      ]
     },
     "execution_count": 45,
     "metadata": {},
     "output_type": "execute_result"
    }
   ],
   "source": [
    "# Load the data\n",
    "data = pd.read_csv(os.path.join(\"data\", \"corr.csv\"))\n",
    "\n",
    "# Plot the top of the file\n",
    "data"
   ]
  },
  {
   "cell_type": "code",
   "execution_count": 115,
   "metadata": {
    "hidden": true
   },
   "outputs": [
    {
     "data": {
      "image/png": "[encoded data removed]",
      "text/plain": [
       "<Figure size 864x432 with 2 Axes>"
      ]
     },
     "metadata": {
      "needs_background": "light"
     },
     "output_type": "display_data"
    }
   ],
   "source": [
    "# Create shorcuts for these very long labels\n",
    "lab_cheese = \"Per capita consumption of cheddar cheese (US) Pounds (USDA)\"\n",
    "lab_death = \"People killed by immunosuppressive agents Deaths (US) (CDC)\"\n",
    "\n",
    "# Check for mispellings\n",
    "assert lab_cheese in data.columns\n",
    "assert lab_death in data.columns\n",
    "\n",
    "# Create the figure and axis\n",
    "fig, ax = plt.subplots(figsize=(12, 6))\n",
    "\n",
    "# Create a line for the cheese consumption\n",
    "sns.lineplot(x=\"year\", y=lab_cheese, data=data, marker=\"o\", color=\"C0\",\n",
    "             label=\"cheese consumption\", ax=ax, legend=False)\n",
    "\n",
    "# Create a duplicate of the axis for having a second y-axis\n",
    "ax = ax.twinx()\n",
    "\n",
    "# Create a line for the death number\n",
    "sns.lineplot(x=\"year\", y=lab_death, data=data, marker=\"P\", color=\"C1\",\n",
    "             label=\"death number\", ax=ax, legend=False)\n",
    "\n",
    "# Make the legend \n",
    "ax.figure.legend()\n",
    "\n",
    "# Manually the placement of the x-axis ticks\n",
    "plt.xticks(range(min(data[\"year\"]), max(data[\"year\"])+1, 3))\n",
    "\n",
    "plt.show()"
   ]
  },
  {
   "cell_type": "code",
   "execution_count": 116,
   "metadata": {
    "hidden": true
   },
   "outputs": [
    {
     "data": {
      "image/png": "[encoded data removed]",
      "text/plain": [
       "<Figure size 864x432 with 1 Axes>"
      ]
     },
     "metadata": {
      "needs_background": "light"
     },
     "output_type": "display_data"
    }
   ],
   "source": [
    "# Create figure and axis\n",
    "fig, ax = plt.subplots(figsize=(12, 6))\n",
    "\n",
    "# Plot the linear regressioin\n",
    "sns.regplot(x=lab_cheese, y=lab_death, data=data, ax=ax)\n",
    "\n",
    "plt.show()"
   ]
  },
  {
   "cell_type": "code",
   "execution_count": 117,
   "metadata": {
    "hidden": true
   },
   "outputs": [
    {
     "name": "stdout",
     "output_type": "stream",
     "text": [
      "r = 0.8835087706585109, p = 0.0006984113903627763\n"
     ]
    }
   ],
   "source": [
    "# Compute the correlation coefficient\n",
    "r, p = stats.pearsonr(data[lab_cheese], data[lab_death])\n",
    "\n",
    "# Print the results\n",
    "print(f\"r = {r}, p = {p}\")"
   ]
  },
  {
   "cell_type": "markdown",
   "metadata": {
    "hidden": true
   },
   "source": [
    "You can find a lot of surprising spurious correlations here (and also create your own): http://www.tylervigen.com/spurious-correlations\n",
    "\n"
   ]
  },
  {
   "cell_type": "markdown",
   "metadata": {
    "heading_collapsed": true,
    "hidden": true
   },
   "source": [
    "### Counfound factors"
   ]
  },
  {
   "cell_type": "markdown",
   "metadata": {
    "hidden": true
   },
   "source": [
    "<div class=\"alert alert-block alert-danger\">\n",
    "<h2><img src=\"img/logo/warning.png\" width=\"20\" align=\"left\"><a class=\"tocSkip\"></a>&nbsp;Important</h2>\n",
    "    <br>\n",
    "    Check for <b> counfound </b> factors\n",
    "    </div>"
   ]
  },
  {
   "cell_type": "markdown",
   "metadata": {
    "heading_collapsed": true,
    "hidden": true
   },
   "source": [
    "#### Example <a class=\"tocSkip\"></a>"
   ]
  },
  {
   "cell_type": "markdown",
   "metadata": {
    "hidden": true
   },
   "source": [
    "<img src=\"img/smoke.jpg\" width=\"400\">"
   ]
  },
  {
   "cell_type": "markdown",
   "metadata": {
    "heading_collapsed": true,
    "hidden": true
   },
   "source": [
    "### Misrepresentation = misinterpretation"
   ]
  },
  {
   "cell_type": "markdown",
   "metadata": {
    "hidden": true
   },
   "source": [
    "<div class=\"alert alert-block alert-danger\">\n",
    "<h2><img src=\"img/logo/warning.png\" width=\"20\" align=\"left\"><a class=\"tocSkip\"></a>&nbsp;Important</h2>\n",
    "    <br>\n",
    "    Choose a <b> representation </b>  adapted to the type of your data: <b> misrepresentations</b> leads to <b>misinterpreations</b>\n",
    "    </div>"
   ]
  },
  {
   "cell_type": "markdown",
   "metadata": {
    "hidden": true
   },
   "source": [
    "**Why is it important?** Let's take an example..."
   ]
  },
  {
   "cell_type": "markdown",
   "metadata": {
    "hidden": true
   },
   "source": [
    "#### Example <a class=\"tocSkip\"></a>"
   ]
  },
  {
   "cell_type": "code",
   "execution_count": 77,
   "metadata": {
    "hidden": true
   },
   "outputs": [
    {
     "data": {
      "text/html": [
       "<div>\n",
       "<style scoped>\n",
       "    .dataframe tbody tr th:only-of-type {\n",
       "        vertical-align: middle;\n",
       "    }\n",
       "\n",
       "    .dataframe tbody tr th {\n",
       "        vertical-align: top;\n",
       "    }\n",
       "\n",
       "    .dataframe thead th {\n",
       "        text-align: right;\n",
       "    }\n",
       "</style>\n",
       "<table border=\"1\" class=\"dataframe\">\n",
       "  <thead>\n",
       "    <tr style=\"text-align: right;\">\n",
       "      <th></th>\n",
       "      <th>Country</th>\n",
       "      <th>Year</th>\n",
       "      <th>Debt</th>\n",
       "      <th>Growth</th>\n",
       "    </tr>\n",
       "  </thead>\n",
       "  <tbody>\n",
       "    <tr>\n",
       "      <th>0</th>\n",
       "      <td>Australia</td>\n",
       "      <td>1946</td>\n",
       "      <td>190.419080</td>\n",
       "      <td>-3.557951</td>\n",
       "    </tr>\n",
       "    <tr>\n",
       "      <th>1</th>\n",
       "      <td>Australia</td>\n",
       "      <td>1947</td>\n",
       "      <td>177.321371</td>\n",
       "      <td>2.459475</td>\n",
       "    </tr>\n",
       "    <tr>\n",
       "      <th>2</th>\n",
       "      <td>Australia</td>\n",
       "      <td>1948</td>\n",
       "      <td>148.929811</td>\n",
       "      <td>6.437534</td>\n",
       "    </tr>\n",
       "    <tr>\n",
       "      <th>3</th>\n",
       "      <td>Australia</td>\n",
       "      <td>1949</td>\n",
       "      <td>125.828699</td>\n",
       "      <td>6.611994</td>\n",
       "    </tr>\n",
       "    <tr>\n",
       "      <th>4</th>\n",
       "      <td>Australia</td>\n",
       "      <td>1950</td>\n",
       "      <td>109.809398</td>\n",
       "      <td>6.920201</td>\n",
       "    </tr>\n",
       "    <tr>\n",
       "      <th>...</th>\n",
       "      <td>...</td>\n",
       "      <td>...</td>\n",
       "      <td>...</td>\n",
       "      <td>...</td>\n",
       "    </tr>\n",
       "    <tr>\n",
       "      <th>1170</th>\n",
       "      <td>US</td>\n",
       "      <td>2005</td>\n",
       "      <td>62.766724</td>\n",
       "      <td>3.054518</td>\n",
       "    </tr>\n",
       "    <tr>\n",
       "      <th>1171</th>\n",
       "      <td>US</td>\n",
       "      <td>2006</td>\n",
       "      <td>63.489973</td>\n",
       "      <td>2.672807</td>\n",
       "    </tr>\n",
       "    <tr>\n",
       "      <th>1172</th>\n",
       "      <td>US</td>\n",
       "      <td>2007</td>\n",
       "      <td>63.985488</td>\n",
       "      <td>2.141613</td>\n",
       "    </tr>\n",
       "    <tr>\n",
       "      <th>1173</th>\n",
       "      <td>US</td>\n",
       "      <td>2008</td>\n",
       "      <td>74.091061</td>\n",
       "      <td>0.438166</td>\n",
       "    </tr>\n",
       "    <tr>\n",
       "      <th>1174</th>\n",
       "      <td>US</td>\n",
       "      <td>2009</td>\n",
       "      <td>83.482835</td>\n",
       "      <td>-2.730170</td>\n",
       "    </tr>\n",
       "  </tbody>\n",
       "</table>\n",
       "<p>1175 rows × 4 columns</p>\n",
       "</div>"
      ],
      "text/plain": [
       "        Country  Year        Debt    Growth\n",
       "0     Australia  1946  190.419080 -3.557951\n",
       "1     Australia  1947  177.321371  2.459475\n",
       "2     Australia  1948  148.929811  6.437534\n",
       "3     Australia  1949  125.828699  6.611994\n",
       "4     Australia  1950  109.809398  6.920201\n",
       "...         ...   ...         ...       ...\n",
       "1170         US  2005   62.766724  3.054518\n",
       "1171         US  2006   63.489973  2.672807\n",
       "1172         US  2007   63.985488  2.141613\n",
       "1173         US  2008   74.091061  0.438166\n",
       "1174         US  2009   83.482835 -2.730170\n",
       "\n",
       "[1175 rows x 4 columns]"
      ]
     },
     "execution_count": 77,
     "metadata": {},
     "output_type": "execute_result"
    }
   ],
   "source": [
    "# Import the data\n",
    "df = pd.read_csv(os.path.join(\"data\", \"rr.csv\"))\n",
    "\n",
    "# Plot the top of the file\n",
    "df"
   ]
  },
  {
   "cell_type": "code",
   "execution_count": 81,
   "metadata": {
    "hidden": true
   },
   "outputs": [
    {
     "data": {
      "image/png": "[encoded data removed]",
      "text/plain": [
       "<Figure size 720x432 with 1 Axes>"
      ]
     },
     "metadata": {
      "needs_background": "light"
     },
     "output_type": "display_data"
    }
   ],
   "source": [
    "# Create bins\n",
    "df['DebtBin'] = pd.cut(df.Debt, bins=range(0, 250, 40), include_lowest=False)\n",
    "\n",
    "# Compute the mean of each bins\n",
    "y = df.groupby('DebtBin').Growth.mean()\n",
    "\n",
    "# For the x-axis, compute the middle value of each bin\n",
    "x = [i.left + (i.right - i.left)/2 for i in y.index.values]\n",
    "\n",
    "# Create the barplot\n",
    "fig, ax = plt.subplots(figsize=(10, 6))\n",
    "sns.barplot(x=x, y=y.values, palette=\"Blues_d\", ax=ax)\n",
    "\n",
    "# Set the axis labels\n",
    "ax.set_xlabel(\"Debt\")\n",
    "ax.set_ylabel(\"Growth\");"
   ]
  },
  {
   "cell_type": "markdown",
   "metadata": {
    "hidden": true
   },
   "source": [
    "However, here is what the raw data look like:"
   ]
  },
  {
   "cell_type": "code",
   "execution_count": 78,
   "metadata": {
    "hidden": true,
    "scrolled": false
   },
   "outputs": [
    {
     "data": {
      "image/png": "[encoded data removed]",
      "text/plain": [
       "<Figure size 864x648 with 1 Axes>"
      ]
     },
     "metadata": {
      "needs_background": "light"
     },
     "output_type": "display_data"
    }
   ],
   "source": [
    "# Create the figure and axis\n",
    "fig, ax = plt.subplots(figsize=(12, 9))\n",
    "\n",
    "# Plot a scatter instead\n",
    "sns.scatterplot(x=\"Debt\", y=\"Growth\", data=df, ax=ax);"
   ]
  },
  {
   "cell_type": "markdown",
   "metadata": {
    "hidden": true
   },
   "source": [
    "> The 'step' effect is an artefact due to the misrepresentation of the data. So: (i) **Look at your raw data!**, (ii) **Choose a representation adapted to the structure of your data**."
   ]
  },
  {
   "cell_type": "markdown",
   "metadata": {
    "hidden": true
   },
   "source": [
    "Adapted from the errors from <a href=\"https://pubs.aeaweb.org/doi/pdf/10.1257/aer.100.2.573\">Reinhart, C. M., & Rogoff, K. S. (2010). Growth in a Time of Debt. American economic review, 100(2), 573-78.</a> and the critic from https://scienceetonnante.com/2020/04/17/austerite-excel/ (in French) and corresponding GitHub repo: https://github.com/scienceetonnante/Reinhart-Rogoff. \n",
    "\n",
    "To see a (serious) critique of this article: <a href=\"https://www.peri.umass.edu/images/WP322.pdf\">Herndon, T., Ash, M., & Pollin, R. (2014). Does high public debt consistently stifle economic growth? A critique of Reinhart and Rogoff. Cambridge journal of economics, 38(2), 257-279.</a>"
   ]
  },
  {
   "cell_type": "markdown",
   "metadata": {
    "hidden": true
   },
   "source": [
    "One figure from the original paper:\n",
    "<img src=\"img/RRfig2.png\" width=\"400\">"
   ]
  },
  {
   "cell_type": "markdown",
   "metadata": {
    "hidden": true
   },
   "source": [
    "> It is probably possible to do better: this representation leads to misinterpretation!"
   ]
  },
  {
   "cell_type": "markdown",
   "metadata": {
    "heading_collapsed": true,
    "hidden": true
   },
   "source": [
    "### Occam's razor"
   ]
  },
  {
   "cell_type": "markdown",
   "metadata": {
    "hidden": true
   },
   "source": [
    "<div class=\"alert alert-block alert-danger\">\n",
    "<h2><img src=\"img/logo/warning.png\" width=\"20\" align=\"left\"><a class=\"tocSkip\"></a>&nbsp;Important</h2>\n",
    "    <br>\n",
    "    In case of <b>tie</b>: Applying  an<b> Occam's razor</b> is often a good strategy\n",
    "    </div>"
   ]
  },
  {
   "cell_type": "markdown",
   "metadata": {
    "hidden": true
   },
   "source": [
    "For a contextualized explanation, you can refer to the <a href=\"https://plato.stanford.edu/entries/simplicity/\">Stanford Encyclopedia</a>: Baker, Alan, \"Simplicity\", The Stanford Encyclopedia of Philosophy (Winter 2016 Edition), Edward N. Zalta (ed.), URL = <https://plato.stanford.edu/archives/win2016/entries/simplicity/>.\n",
    "\n",
    "---"
   ]
  },
  {
   "cell_type": "markdown",
   "metadata": {
    "hidden": true
   },
   "source": [
    "<img src=\"img/naplaplace.jpg\" width=\"500\">"
   ]
  },
  {
   "cell_type": "markdown",
   "metadata": {
    "hidden": true
   },
   "source": [
    "><a href=\"https://en.wikipedia.org/wiki/Pierre-Simon_Laplace\">Laplace</a> went in state to Napoleon to present a copy of his work [...]. Someone had told Napoleon that the book contained no mention of the name of God; Napoleon [...] received it with the remark, 'M. Laplace, they tell me you have written this large book on the system of the universe, and have never even mentioned its Creator.' Laplace [...] answered bluntly, [...] <b>\"I had no need of that hypothesis.\"</b>[...] Napoleon, greatly amused, told this reply to Lagrange, who exclaimed [...] \"Ah, it is a fine hypothesis; it explains many things.\"\n",
    "\n",
    "From <a href=\"https://www.goodreads.com/book/show/2379465.A_Short_Account_of_the_History_of_Mathematics\"> W.W. Rouse Ball A Short Account of the History of Mathematics, 4th edition, 1908</a>."
   ]
  },
  {
   "cell_type": "markdown",
   "metadata": {
    "hidden": true
   },
   "source": [
    ">If all of chemistry can be explained in a satisfactory manner without the help of phlogiston, that is enough to render it infinitely likely that the principle does not exist, that it is a hypothetical substance, a gratuitous supposition. It is, after all, a principle of logic not to multiply entities unnecessarily (Lavoisier 1862, pp. 623–4).\n",
    "\n",
    ">[T]he grand aim of all science…is to cover the greatest possible number of empirical facts by logical deductions from the smallest possible number of hypotheses or axioms (Einstein, quoted in Nash 1963, p. 173).\n",
    "\n",
    "Both quotations from the <a href=\"https://plato.stanford.edu/entries/simplicity/\"> Stanford Encyclopedia</a>."
   ]
  }
 ],
 "metadata": {
  "hide_input": false,
  "kernelspec": {
   "display_name": "Python 3",
   "language": "python",
   "name": "python3"
  },
  "language_info": {
   "codemirror_mode": {
    "name": "ipython",
    "version": 3
   },
   "file_extension": ".py",
   "mimetype": "text/x-python",
   "name": "python",
   "nbconvert_exporter": "python",
   "pygments_lexer": "ipython3",
   "version": "3.9.1"
  },
  "toc": {
   "base_numbering": 1,
   "nav_menu": {},
   "number_sections": true,
   "sideBar": true,
   "skip_h1_title": false,
   "title_cell": "Table of Contents",
   "title_sidebar": "Contents",
   "toc_cell": false,
   "toc_position": {
    "height": "calc(100% - 180px)",
    "left": "10px",
    "top": "150px",
    "width": "266.594px"
   },
   "toc_section_display": true,
   "toc_window_display": true
  }
 },
 "nbformat": 4,
 "nbformat_minor": 4
}
