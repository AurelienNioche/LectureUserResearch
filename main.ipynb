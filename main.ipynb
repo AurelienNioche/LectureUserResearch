{
 "cells": [
  {
   "cell_type": "markdown",
   "metadata": {
    "pycharm": {
     "name": "#%% md\n"
    }
   },
   "source": [
    "<img src=\"img/decisionmaking.png\" width=\"400\">\n",
    "\n",
    "# ELEC-E7851 - ELEC-E7890 - User Research\n",
    "# Lecture 2 - Research Design\n",
    "\n",
    "**Aurélien Nioche**\n",
    "\n",
    "Aalto University"
   ]
  },
  {
   "cell_type": "markdown",
   "metadata": {},
   "source": [
    "## Preamble\n",
    "\n",
    "<!--\n",
    "<img src=\"img/netflix.png\" width=900>\n",
    "-->"
   ]
  },
  {
   "cell_type": "markdown",
   "metadata": {},
   "source": [
    "<div class=\"alert alert-block alert-success\">\n",
    "<h2><img src=\"img/logo/goal.png\" width=\"20\" align=\"left\">&nbsp;Learning objectives</h2>\n",
    "    <br>Learn by a basic example the elementary rules of experimentation, including:\n",
    "    <ul>\n",
    "        <li>How to define a research problem (see <a href=\"#1.-Task-Model-&-Decision-Making-Models\" class=\"alert-link\">Section 1</a>);\n",
    "        <li>How to define hypothesis  (see <a href=\"#2.-Exploratory-Simulations\" class=\"alert-link\">Section 2</a>);\n",
    "        <li>How to operationalize these hypothesis (see <a href=\"#3.-Parameter-Fitting-&amp;-Parameter-Recovery\" class=\"alert-link\">Section 3</a>);\n",
    "        <li>How to design the study accordingly (see <a href=\"#4.-Model-Comparison-&amp;-Model-Recovery\" class=\"alert-link\">Section 4</a>).\n",
    "    </ul>\n",
    "</div>"
   ]
  },
  {
   "cell_type": "markdown",
   "metadata": {
    "pycharm": {
     "name": "#%%\n"
    }
   },
   "source": [
    "## Course Overview\n",
    "\n",
    "<img src=\"img/design.png\" width=\"30\" align=\"left\">&nbsp;&nbsp;&nbsp;&nbsp;<span style=\"font-size:2rem; font-weight:bold\"><a href=\"#1.-Build-an-experiment\">1. Build an experiment</a></span>\n",
    "\n",
    "<a href=\"#1.1-How-to-define-a-research-pro\">1.1 Task definition</a>\n",
    "\n",
    "<a href=\"#1.2-Models-definition\">1.2 Models definition</a>\n",
    "\n",
    "<span style=\"font-size:2rem; font-weight:bold\"><a href=\"#Conclusive-Remarks-and-a-Few-Take-Aways\">Conclusive Remarks and a Few Take Aways</a></span>\n",
    "\n",
    "<span style=\"font-size:2rem; font-weight:bold\"><a href=\"#Additional-material\">Additional material</a></span>"
   ]
  },
  {
   "cell_type": "markdown",
   "metadata": {},
   "source": [
    "## 1. Build an experiment\n",
    "<a href=\"#Course-Overview\">Course Overview</a>\n",
    "\n",
    "<img src=\"img/design.png\" width=\"300\">\n",
    "\n",
    "<div class=\"alert alert-block alert-success\">\n",
    "<h3><img src=\"img/logo/goal.png\" width=\"20\" align=\"left\">&nbsp;Section Goal</h3>\n",
    "<ul>\n",
    "    <li>How to build an experiment.\n",
    "    </ul>\n",
    "</div>"
   ]
  },
  {
   "cell_type": "markdown",
   "metadata": {},
   "source": [
    "### 1.1 Define a research problem\n",
    "<a href=\"#Course-Overview\">Course Overview</a>\n",
    "\n",
    "<div class=\"alert alert-block alert-info\">\n",
    "<h4><img src=\"img/logo/goal.png\" width=\"20\" align=\"left\">&nbsp;Goal</h4>\n",
    "    <ul>\n",
    "        <li>Refine the question, such that you can answer it by an experiment.\n",
    "    </ul>\n",
    "</div>\n",
    "\n",
    "<img src=\"img/logo/how_to.png\" width=\"25\" align=\"left\">&nbsp;<b>How to do it?</b>\n",
    "\n",
    "Let's take as example:"
   ]
  },
  {
   "cell_type": "markdown",
   "metadata": {},
   "source": [
    "<!-- <img src=\"img/illustration.jpeg\" width=700> -->"
   ]
  },
  {
   "cell_type": "markdown",
   "metadata": {},
   "source": [
    "<b>Task: <a href=\"https://en.wikipedia.org/wiki/Multi-armed_bandit\">Bandit task</a></b>"
   ]
  },
  {
   "cell_type": "code",
   "execution_count": 1,
   "metadata": {
    "pycharm": {
     "name": "#%%\n"
    }
   },
   "outputs": [
    {
     "ename": "NameError",
     "evalue": "name 'np' is not defined",
     "output_type": "error",
     "traceback": [
      "\u001b[0;31m---------------------------------------------------------------------------\u001b[0m",
      "\u001b[0;31mNameError\u001b[0m                                 Traceback (most recent call last)",
      "\u001b[0;32m<ipython-input-1-d36c15b83d92>\u001b[0m in \u001b[0;36m<module>\u001b[0;34m\u001b[0m\n\u001b[1;32m      1\u001b[0m \u001b[0mN\u001b[0m \u001b[0;34m=\u001b[0m \u001b[0;36m2\u001b[0m\u001b[0;34m\u001b[0m\u001b[0;34m\u001b[0m\u001b[0m\n\u001b[0;32m----> 2\u001b[0;31m \u001b[0mP\u001b[0m \u001b[0;34m=\u001b[0m \u001b[0mnp\u001b[0m\u001b[0;34m.\u001b[0m\u001b[0marray\u001b[0m\u001b[0;34m(\u001b[0m\u001b[0;34m[\u001b[0m\u001b[0;36m0.5\u001b[0m\u001b[0;34m,\u001b[0m \u001b[0;36m0.75\u001b[0m\u001b[0;34m]\u001b[0m\u001b[0;34m)\u001b[0m\u001b[0;34m\u001b[0m\u001b[0;34m\u001b[0m\u001b[0m\n\u001b[0m\u001b[1;32m      3\u001b[0m \u001b[0mT\u001b[0m \u001b[0;34m=\u001b[0m \u001b[0;36m500\u001b[0m\u001b[0;34m\u001b[0m\u001b[0;34m\u001b[0m\u001b[0m\n\u001b[1;32m      4\u001b[0m \u001b[0;34m\u001b[0m\u001b[0m\n\u001b[1;32m      5\u001b[0m \u001b[0mN_SUBJECTS\u001b[0m \u001b[0;34m=\u001b[0m \u001b[0;36m30\u001b[0m\u001b[0;34m\u001b[0m\u001b[0;34m\u001b[0m\u001b[0m\n",
      "\u001b[0;31mNameError\u001b[0m: name 'np' is not defined"
     ]
    }
   ],
   "source": [
    "N = 2\n",
    "P = np.array([0.5, 0.75])\n",
    "T = 500\n",
    "\n",
    "N_SUBJECTS = 30"
   ]
  },
  {
   "cell_type": "markdown",
   "metadata": {},
   "source": [
    "\\begin{equation}\n",
    "\\forall i: p_{choice}(i) \\in [0, 1] \\wedge \\sum_{i}^N p_{choice}(i) = 1\n",
    "\\end{equation}"
   ]
  },
  {
   "cell_type": "markdown",
   "metadata": {},
   "source": [
    "*Note: For more info, see the <a href=\"#S1.-Behavior-visualization\">supplementary section</a>).*"
   ]
  },
  {
   "cell_type": "markdown",
   "metadata": {},
   "source": [
    " ---"
   ]
  },
  {
   "cell_type": "markdown",
   "metadata": {},
   "source": [
    "---"
   ]
  },
  {
   "cell_type": "markdown",
   "metadata": {},
   "source": [
    "<div class=\"alert alert-block alert-danger\">\n",
    "<h2><img src=\"img/logo/warning.png\" width=\"20\" align=\"left\">&nbsp;Warning</h2>\n",
    "    <br>You should look to the <a href=\"#S2.-Parameter-space-exploration\" class=\"alert-link\">supplementary</a> for that.</div>"
   ]
  },
  {
   "cell_type": "markdown",
   "metadata": {},
   "source": [
    "## 1. Define a research problem &amp; the hypothesis"
   ]
  },
  {
   "cell_type": "markdown",
   "metadata": {},
   "source": [
    "The research problem constitutes the **question(s)** you aim to answer\n",
    "\n",
    "The hypothesis constitute(s) the **answer(s)** to this(these) possible question(s)"
   ]
  },
  {
   "cell_type": "markdown",
   "metadata": {},
   "source": [
    "<div class=\"alert alert-block alert-danger\">\n",
    "<h2><img src=\"img/logo/warning.png\" width=\"20\" align=\"left\">&nbsp;Important</h2>\n",
    "    <br>Strong restriction: the hypothesis has to be a <b>falsifiable</b> statement (<a href=\"https://plato.stanford.edu/entries/popper/\">Popper</a>, 1959 as a response to the problem of induction of <a href=\"https://plato.stanford.edu/entries/hume/\">Hume</a>, 1739-40)</div>"
   ]
  },
  {
   "cell_type": "markdown",
   "metadata": {},
   "source": [
    "H: \"All swans are white\"\n",
    "<img src=\"img/all_white.jpg\" width=\"300\">"
   ]
  },
  {
   "cell_type": "markdown",
   "metadata": {},
   "source": [
    "<img src=\"img/all_white_but_one.jpg\" width=\"300\">\n",
    "\n",
    "---"
   ]
  },
  {
   "cell_type": "markdown",
   "metadata": {},
   "source": [
    "H: \"Most people do not really want freedom, because freedom involves responsibility, and most people are frightened of responsibility.\"\n",
    "\n",
    "Is this statement falsifiable?\n",
    "\n",
    "---"
   ]
  },
  {
   "cell_type": "markdown",
   "metadata": {},
   "source": [
    "Examples of **non falsifiable statements**:\n",
    "* **tautologies**\n",
    "* **vague open-ended statements**"
   ]
  },
  {
   "cell_type": "markdown",
   "metadata": {},
   "source": [
    "<i>Note: do not cofound *working* hypothesis and *testing* hypothesis</i>"
   ]
  },
  {
   "cell_type": "markdown",
   "metadata": {},
   "source": [
    "<div class=\"alert alert-block alert-danger\">\n",
    "<h2><img src=\"img/logo/warning.png\" width=\"20\" align=\"left\">&nbsp;Important</h2>\n",
    "    <br>Be aware of the <b>confirmation</b> bias</div>"
   ]
  },
  {
   "cell_type": "markdown",
   "metadata": {},
   "source": [
    "<img src=\"img/science_vs_creationism.png\" width=\"300\">"
   ]
  },
  {
   "cell_type": "markdown",
   "metadata": {},
   "source": [
    "...but even using a scientific method, we can be tempted...\n",
    "<img src=\"img/comics_conf.jpg\" width=\"300\">"
   ]
  },
  {
   "cell_type": "markdown",
   "metadata": {},
   "source": [
    "## 2. Operationalize"
   ]
  },
  {
   "cell_type": "markdown",
   "metadata": {},
   "source": [
    "<div class=\"alert alert-block alert-danger\">\n",
    "<h2><img src=\"img/logo/warning.png\" width=\"20\" align=\"left\">&nbsp;Important</h2>\n",
    "    <br>Differentiate <b>dependant</b> and <b>independant</b> variable\n",
    "    <ul>\n",
    "        <li> dependant: what we <b>measure</b>\n",
    "        <li> independant : what we <b>manipulate</b>\n",
    "    </ul>\n",
    "    </div>"
   ]
  },
  {
   "cell_type": "markdown",
   "metadata": {},
   "source": [
    "Let's take an example:"
   ]
  },
  {
   "cell_type": "markdown",
   "metadata": {},
   "source": [
    "<img src=\"img/swiping_typing.jpg\" width=\"300\">"
   ]
  },
  {
   "cell_type": "markdown",
   "metadata": {},
   "source": [
    "* What is in this case our research problem?\n",
    "* What are the hypothesis we can draw?\n",
    "* What are the dependant variable?\n",
    "* what are the independant variable?"
   ]
  },
  {
   "cell_type": "markdown",
   "metadata": {},
   "source": [
    "*Note: they can be several dependant and independant variables*\n",
    "\n",
    "---"
   ]
  },
  {
   "cell_type": "markdown",
   "metadata": {},
   "source": [
    "An experiment is a comparison, so..."
   ]
  },
  {
   "cell_type": "markdown",
   "metadata": {},
   "source": [
    "<div class=\"alert alert-block alert-danger\">\n",
    "<h2><img src=\"img/logo/warning.png\" width=\"20\" align=\"left\">&nbsp;Important</h2>\n",
    "    <br>\n",
    "    Choose carefully your <b>baseline</b>!\n",
    "    </div>"
   ]
  },
  {
   "cell_type": "markdown",
   "metadata": {},
   "source": [
    "## 3. Choose the experimental design"
   ]
  },
  {
   "cell_type": "markdown",
   "metadata": {},
   "source": [
    "<div class=\"alert alert-block alert-danger\">\n",
    "<h2><img src=\"img/logo/warning.png\" width=\"20\" align=\"left\">&nbsp;Important</h2>\n",
    "    <br>\n",
    "    Differentiate:\n",
    "    <ul>\n",
    "        <li> <b>between</b> subjects design\n",
    "        <li> <b>within</b> subjects design\n",
    "    </ul>\n",
    "    </div>"
   ]
  },
  {
   "cell_type": "markdown",
   "metadata": {},
   "source": [
    "<i> For a comparison, see for instance <a href=\"https://rady.ucsd.edu/docs/faculty/Gneezy_jebo_between.pdf\">Charness et al. (2012). Experimental methods: Between-subject and within-subject design. <i>Journal of Economic Behavior & Organization</i>.</a>"
   ]
  },
  {
   "cell_type": "markdown",
   "metadata": {},
   "source": [
    "To make it short...\n",
    "<br>\n",
    "Do you expect large variability in your subjects?\n",
    "* <b>No</b>: between subjects\n",
    "* <b>Yes</b>: whithin subjects"
   ]
  },
  {
   "cell_type": "markdown",
   "metadata": {},
   "source": [
    "If you choose \"<b>yes</b>\", be aware of possible <a url=\"https://dictionary.apa.org/confound\"><b>counfound factors</b></a>:\n",
    "* <a url=\"https://dictionary.apa.org/order-effect\">order effect</a>"
   ]
  },
  {
   "cell_type": "markdown",
   "metadata": {},
   "source": [
    "## 4. Collect the data"
   ]
  },
  {
   "cell_type": "markdown",
   "metadata": {},
   "source": [
    "<div class=\"alert alert-block alert-danger\">\n",
    "<h2><img src=\"img/logo/warning.png\" width=\"20\" align=\"left\">&nbsp;Important</h2>\n",
    "    <br>\n",
    "    Choose carefully your <b>sample</b>\n",
    "    </div>"
   ]
  },
  {
   "cell_type": "markdown",
   "metadata": {},
   "source": [
    "Even where you would not have expect them, a lot of differences can come from (arbitrary order):\n",
    "1. **age**\n",
    "2. **gender**\n",
    "3. **cultural background / ethnicity**\n",
    "4. **education**\n",
    "5. level of **expertise** of X or Y than can interfere with your experimental task\n",
    "\n",
    "---"
   ]
  },
  {
   "cell_type": "markdown",
   "metadata": {},
   "source": [
    "Example:"
   ]
  },
  {
   "cell_type": "markdown",
   "metadata": {},
   "source": [
    "<img src=\"img/weird1.png\" width=\"300\">\n",
    "<img src=\"img/weird2.png\" width=\"300\">"
   ]
  },
  {
   "cell_type": "markdown",
   "metadata": {},
   "source": [
    "You should definitely look at <a href=\"https://doi.org/10.1017/S0140525X0999152X\">Heinrich et al. (2010). The weirdest people in the world? Behavioral and Brain Sciences.</a>, or in a very short version <a href=\"https://www.nature.com/articles/466029a?page=9\">Heinrich et al. (2010). Most people are not WEIRD. Nature.</a>"
   ]
  },
  {
   "cell_type": "markdown",
   "metadata": {},
   "source": [
    "## 5. Analyse an interpret the data"
   ]
  },
  {
   "cell_type": "markdown",
   "metadata": {},
   "source": [
    "How to go from <b>observations</b> to <b>interpretations</b> to answer (or contributes to the understanding to) your <b>research problem</b>"
   ]
  },
  {
   "cell_type": "markdown",
   "metadata": {},
   "source": [
    "### 5.1 Look at your raw data"
   ]
  },
  {
   "cell_type": "markdown",
   "metadata": {},
   "source": [
    "Why is it important?\n",
    "<br><br>\n",
    "Let's take an example..."
   ]
  },
  {
   "cell_type": "code",
   "execution_count": 43,
   "metadata": {},
   "outputs": [],
   "source": [
    "import pandas as pd\n",
    "import os\n",
    "import seaborn as sns\n",
    "import matplotlib.pyplot as plt\n",
    "import numpy as np"
   ]
  },
  {
   "cell_type": "code",
   "execution_count": 44,
   "metadata": {},
   "outputs": [
    {
     "name": "stdout",
     "output_type": "stream",
     "text": [
      "           x          y\n",
      "0  53.500480  82.351329\n",
      "1  50.629577  84.715953\n",
      "2  49.932717  79.284252\n",
      "3  48.788095  81.244959\n",
      "4  49.496214  78.992123\n"
     ]
    }
   ],
   "source": [
    "df = pd.read_csv(\n",
    "    os.path.join(\"data\", \"circle-data.csv\"),\n",
    "    index_col=[0])\n",
    "print(df.head())"
   ]
  },
  {
   "cell_type": "markdown",
   "metadata": {},
   "source": [
    "You could be tempted to begin to compute descriptive statistics such as mean instead of looking to your data..."
   ]
  },
  {
   "cell_type": "code",
   "execution_count": 45,
   "metadata": {},
   "outputs": [
    {
     "name": "stdout",
     "output_type": "stream",
     "text": [
      "Mean 'x': 54.2697860735676 +/- 16.702413296753157 STD\n",
      "Mean 'y': 47.83046573569003 +/- 26.836276834090196 STD\n"
     ]
    }
   ],
   "source": [
    "for var in \"x\", \"y\":\n",
    "    print(f\"Mean '{var}': {np.mean(df[var])} +/- {np.std(df[var])} STD\")"
   ]
  },
  {
   "cell_type": "markdown",
   "metadata": {},
   "source": [
    "TLDR: let's change the precision..."
   ]
  },
  {
   "cell_type": "code",
   "execution_count": 50,
   "metadata": {},
   "outputs": [
    {
     "name": "stdout",
     "output_type": "stream",
     "text": [
      "Mean 'x': 54.27 +/- 16.70 STD\n",
      "Mean 'y': 47.83 +/- 26.84 STD\n"
     ]
    }
   ],
   "source": [
    "for var in \"x\", \"y\":\n",
    "    print(f\"Mean '{var}': {np.mean(df[var]):.2f} +/- {np.std(df[var]):.2f} STD\")"
   ]
  },
  {
   "cell_type": "markdown",
   "metadata": {},
   "source": [
    "And still without looking at the raw data, let's do a barplot:"
   ]
  },
  {
   "cell_type": "code",
   "execution_count": 51,
   "metadata": {},
   "outputs": [
    {
     "name": "stdout",
     "output_type": "stream",
     "text": [
      "  variable      value\n",
      "0        x  53.500480\n",
      "1        x  50.629577\n",
      "2        x  49.932717\n",
      "3        x  48.788095\n",
      "4        x  49.496214\n"
     ]
    }
   ],
   "source": [
    "df_flipped = df.melt()\n",
    "print(df_flipped.head())"
   ]
  },
  {
   "cell_type": "code",
   "execution_count": 52,
   "metadata": {},
   "outputs": [
    {
     "data": {
      "image/png": "[encoded data removed]",
      "text/plain": [
       "<Figure size 432x288 with 1 Axes>"
      ]
     },
     "metadata": {
      "needs_background": "light"
     },
     "output_type": "display_data"
    }
   ],
   "source": [
    "sns.barplot(x=\"variable\", y=\"value\", data=df_flipped, ci=\"sd\")\n",
    "plt.show()"
   ]
  },
  {
   "cell_type": "markdown",
   "metadata": {},
   "source": [
    "Let's consider a second dataset..."
   ]
  },
  {
   "cell_type": "code",
   "execution_count": 53,
   "metadata": {},
   "outputs": [
    {
     "name": "stdout",
     "output_type": "stream",
     "text": [
      "         x        y\n",
      "0  55.3846  97.1795\n",
      "1  51.5385  96.0256\n",
      "2  46.1538  94.4872\n",
      "3  42.8205  91.4103\n",
      "4  40.7692  88.3333\n"
     ]
    }
   ],
   "source": [
    "df_other = pd.read_csv(\n",
    "    os.path.join(\"data\", \"dino-data.csv\"),\n",
    "    index_col=[0])\n",
    "print(df_other.head())"
   ]
  },
  {
   "cell_type": "code",
   "execution_count": 60,
   "metadata": {},
   "outputs": [
    {
     "name": "stdout",
     "output_type": "stream",
     "text": [
      "Original dataset - Mean 'x': 54.3 +/- 16.70 STD\n",
      "Original dataset - Mean 'y': 47.8 +/- 26.84 STD\n",
      "\n",
      "Other dataset - Mean 'x': 54.3 +/- 16.71 STD\n",
      "Other dataset - Mean 'y': 47.8 +/- 26.84 STD\n"
     ]
    }
   ],
   "source": [
    "for var in (\"x\", \"y\"):\n",
    "    print(f\"Original dataset - Mean '{var}': {np.mean(df[var]):.1f} +/- {np.std(df[var]):.2f} STD\")\n",
    "print()\n",
    "\n",
    "for var in (\"x\", \"y\"):\n",
    "    print(f\"Other dataset - Mean '{var}': {np.mean(df_other[var]):.1f} +/- {np.std(df_other[var]):.2f} STD\")"
   ]
  },
  {
   "cell_type": "code",
   "execution_count": 61,
   "metadata": {},
   "outputs": [
    {
     "data": {
      "image/png": "[encoded data removed]",
      "text/plain": [
       "<Figure size 432x288 with 1 Axes>"
      ]
     },
     "metadata": {
      "needs_background": "light"
     },
     "output_type": "display_data"
    }
   ],
   "source": [
    "sns.barplot(x=\"variable\", y=\"value\", data=df_other.melt(), ci=\"sd\")\n",
    "plt.title(\"Other dataset\")\n",
    "plt.show()"
   ]
  },
  {
   "cell_type": "markdown",
   "metadata": {},
   "source": [
    "They look quite alike, isn't it?"
   ]
  },
  {
   "cell_type": "code",
   "execution_count": 62,
   "metadata": {},
   "outputs": [
    {
     "data": {
      "image/png": "[encoded data removed]",
      "text/plain": [
       "<Figure size 432x288 with 2 Axes>"
      ]
     },
     "metadata": {
      "needs_background": "light"
     },
     "output_type": "display_data"
    }
   ],
   "source": [
    "fig, axes = plt.subplots(ncols=2)\n",
    "\n",
    "sns.barplot(x=\"variable\", y=\"value\", data=df.melt(), ax=axes[0], ci=\"sd\")\n",
    "axes[0].set_title(\"Original dataset\")\n",
    "\n",
    "sns.barplot(x=\"variable\", y=\"value\", data=df_other.melt(), ax=axes[1], ci=\"sd\")\n",
    "axes[1].set_title(\"Other dataset\")\n",
    "plt.tight_layout()\n",
    "plt.show()"
   ]
  },
  {
   "cell_type": "markdown",
   "metadata": {},
   "source": [
    "However..."
   ]
  },
  {
   "cell_type": "code",
   "execution_count": 56,
   "metadata": {},
   "outputs": [
    {
     "data": {
      "image/png": "[encoded data removed]",
      "text/plain": [
       "<Figure size 432x288 with 2 Axes>"
      ]
     },
     "metadata": {
      "needs_background": "light"
     },
     "output_type": "display_data"
    }
   ],
   "source": [
    "fig, axes = plt.subplots(ncols=2)\n",
    "\n",
    "sns.scatterplot(x=\"x\", y=\"y\", data=df, ax=axes[0])\n",
    "axes[0].set_title(\"Original dataset\")\n",
    "\n",
    "sns.scatterplot(x=\"x\", y=\"y\", data=df_other, ax=axes[1])\n",
    "axes[1].set_title(\"Other dataset\")\n",
    "plt.tight_layout()\n",
    "plt.show()"
   ]
  },
  {
   "cell_type": "markdown",
   "metadata": {},
   "source": [
    "so..."
   ]
  },
  {
   "cell_type": "markdown",
   "metadata": {},
   "source": [
    "<div class=\"alert alert-block alert-danger\">\n",
    "<h2><img src=\"img/logo/warning.png\" width=\"20\" align=\"left\">&nbsp;Important</h2>\n",
    "    <br>\n",
    "    Look at your <b>raw data first</b>\n",
    "    </div>"
   ]
  },
  {
   "cell_type": "markdown",
   "metadata": {},
   "source": [
    "<i>Note: you can find a lot of astonishing examples in <a href=\"https://www.autodeskresearch.com/publications/samestats\">Matejka, J., & Fitzmaurice, G. (2017, May). Same stats, different graphs: generating datasets with varied appearance and identical statistics through simulated annealing. In Proceedings of the 2017 CHI Conference on Human Factors in Computing Systems (pp. 1290-1294).<a>"
   ]
  },
  {
   "cell_type": "markdown",
   "metadata": {},
   "source": [
    "### 5.2 Compute descriptive statistics"
   ]
  },
  {
   "cell_type": "markdown",
   "metadata": {},
   "source": [
    "...and only thereafter summarize the information, computing descriptive statistics: mean, median, standard deviation or standard error, ..."
   ]
  },
  {
   "cell_type": "markdown",
   "metadata": {},
   "source": [
    "<div class=\"alert alert-block alert-danger\">\n",
    "<h2><img src=\"img/logo/warning.png\" width=\"20\" align=\"left\">&nbsp;Important</h2>\n",
    "    <br>\n",
    "    Differenciate <b>mean</b> and <b>median</b>\n",
    "    </div>"
   ]
  },
  {
   "cell_type": "markdown",
   "metadata": {},
   "source": [
    "\\begin{equation} \\mathrm {median} (x)={\\frac {1}{2}}(x_{\\lfloor (n+1)/2\\rfloor }+x_{\\lceil (n+1)/2\\rceil })\\end{equation}\n",
    "where *x* is an ordered list of *n* numbers, and $ \\lfloor \\cdot \\rfloor $  and $\\lceil \\cdot \\rceil$  denote the floor and ceiling functions. \n",
    "<br><br>\n",
    "The floor function is the function that takes as input a real number $i$, and gives as output the greatest integer less than or equal to $i$. \n",
    "Similarly, the ceiling function maps $i$ to the least integer greater than or equal to $i$."
   ]
  },
  {
   "cell_type": "markdown",
   "metadata": {},
   "source": [
    "Example ($n$ is odd): 1, 3, 3, 6, 7, 8, 9\n",
    "    \n",
    "Example ($n$ is even): 1, 3, 3, 6, 7, 8, 9"
   ]
  },
  {
   "cell_type": "markdown",
   "metadata": {},
   "source": [
    "\\begin{equation}\\mathrm{mean}(x) ={\\frac {1}{n}}\\left(\\sum _{i=1}^{n}{x_{i}}\\right)={\\frac {x_{1}+x_{2}+\\cdots +x_{n}}{n}} \\end{equation}\n",
    "where x is an ordered list of n numbers"
   ]
  },
  {
   "cell_type": "markdown",
   "metadata": {},
   "source": [
    "***\n",
    "\n",
    "Why is it important to consider this difference?"
   ]
  },
  {
   "cell_type": "markdown",
   "metadata": {},
   "source": [
    "***"
   ]
  },
  {
   "cell_type": "markdown",
   "metadata": {},
   "source": [
    "Let's considerate data $D_N$ that follows a normal distribution, that is such that:"
   ]
  },
  {
   "cell_type": "markdown",
   "metadata": {},
   "source": [
    "$$ D_N\\sim \\mathcal{N} (\\mu ,\\sigma )$$\n",
    "$$ f(x)={\\frac {1}{\\sigma {\\sqrt {2\\pi }}}}e^{-{\\frac {1}{2}}\\left({\\frac {x-\\mu }{\\sigma }}\\right)^{2}}$$"
   ]
  },
  {
   "cell_type": "code",
   "execution_count": 91,
   "metadata": {},
   "outputs": [
    {
     "name": "stdout",
     "output_type": "stream",
     "text": [
      "data (3 first values): [-108.56306033   99.73454466   28.29784981]\n"
     ]
    }
   ],
   "source": [
    "mu, sigma = 0, 100.0\n",
    "np.random.seed(123)\n",
    "data = np.random.normal(mu, scale=sigma, size=1000)\n",
    "print(\"data (3 first values):\", data[:3])"
   ]
  },
  {
   "cell_type": "code",
   "execution_count": 92,
   "metadata": {},
   "outputs": [
    {
     "data": {
      "image/png": "[encoded data removed]",
      "text/plain": [
       "<Figure size 432x288 with 1 Axes>"
      ]
     },
     "metadata": {
      "needs_background": "light"
     },
     "output_type": "display_data"
    }
   ],
   "source": [
    "fig, ax = plt.subplots()\n",
    "sns.distplot(data, kde=False, norm_hist=True)\n",
    "\n",
    "ax.axvline(np.mean(data), label=\"mean\", color='C1', lw=2, ls='--')\n",
    "ax.axvline(np.median(data), label=\"median\", color='C2', lw=2, ls=':')\n",
    "\n",
    "# Represent the theoretic distribution\n",
    "x = np.linspace(*ax.get_xlim(), 1000)\n",
    "ax.plot(x, 1/(sigma * np.sqrt(2 * np.pi)) *\n",
    "               np.exp( - (x - mu)**2 / (2 * sigma**2) ),\n",
    "         linewidth=2, color='C0')\n",
    "\n",
    "ax.set_title(\"Normal distribution\")\n",
    "ax.set_ylabel(\"Proportion\")\n",
    "ax.set_xlabel(\"value\")\n",
    "plt.legend()\n",
    "plt.show()"
   ]
  },
  {
   "cell_type": "markdown",
   "metadata": {},
   "source": [
    "Let's now consider data $D_G$ that follows a Gamma distribution, that is such that:\n",
    "$$ D_G \\sim \\mathrm{Gamma} (\\alpha ,\\beta )$$\n",
    "the probability density function of the Gamma distribution being :\n",
    "$${\\begin{aligned}f(x;\\alpha ,\\beta )&={\\frac {\\beta ^{\\alpha }x^{\\alpha -1}e^{-\\beta x}}{\\Gamma (\\alpha )}}\\quad {\\text{ for }}x>0\\quad \\alpha ,\\beta >0,\\\\[6pt]\\end{aligned}}$$\n",
    "where $\\Gamma (\\alpha )$ is the gamma function. For all positive integers, $ \\Gamma (\\alpha )=(\\alpha -1)!$"
   ]
  },
  {
   "cell_type": "code",
   "execution_count": 100,
   "metadata": {},
   "outputs": [],
   "source": [
    "# From the doc: Samples are drawn from a Gamma distribution with specified parameters, \n",
    "# shape (sometimes designated “k”) and scale (sometimes designated “theta”), \n",
    "# where both parameters are > 0.\n",
    "# knowing that theta = 1/beta\n",
    "np.random.seed(124)\n",
    "shape, scale = 1, 1000\n",
    "values = np.random.gamma(shape, scale=scale, size=1000)"
   ]
  },
  {
   "cell_type": "code",
   "execution_count": 101,
   "metadata": {},
   "outputs": [
    {
     "data": {
      "image/png": "[encoded data removed]",
      "text/plain": [
       "<Figure size 432x288 with 1 Axes>"
      ]
     },
     "metadata": {
      "needs_background": "light"
     },
     "output_type": "display_data"
    }
   ],
   "source": [
    "import scipy.special as sps  \n",
    "fig, ax = plt.subplots()\n",
    "sns.distplot(values, kde=False, norm_hist=True)\n",
    "ax.axvline(np.mean(values), label=\"mean\", color='C1', lw=2, ls='--')\n",
    "ax.axvline(np.median(values), label=\"median\", color='C2', lw=2, ls=':')\n",
    "\n",
    "ax.set_xlim(0, np.max(values))\n",
    "\n",
    "# Represent the theoretic distribution\n",
    "x = np.linspace(*ax.get_xlim(), 1000)\n",
    "y = x**(shape-1)*(np.exp(-x/scale) /  \n",
    "                     (sps.gamma(shape)*scale**shape))\n",
    "ax.plot(x, y, linewidth=2, color='C0')\n",
    "\n",
    "ax.set_ylabel(\"Proportion\")\n",
    "ax.set_xlabel(\"value\")\n",
    "ax.set_title(\"Gamma distribution\")\n",
    "ax.legend()\n",
    "plt.show()"
   ]
  },
  {
   "cell_type": "markdown",
   "metadata": {},
   "source": [
    "<div class=\"alert alert-block alert-danger\">\n",
    "<h2><img src=\"img/logo/warning.png\" width=\"20\" align=\"left\">&nbsp;Important</h2>\n",
    "    <br>\n",
    "    Always represent a <b>dispersion</b> measure of your data (e.g., standard deviation)\n",
    "    </div>"
   ]
  },
  {
   "cell_type": "code",
   "execution_count": 65,
   "metadata": {},
   "outputs": [],
   "source": [
    "mean_1 = 150.0\n",
    "mean_2 = 200.0\n",
    "\n",
    "small_std = 10.0\n",
    "large_std = 50.0\n",
    "\n",
    "n = 100"
   ]
  },
  {
   "cell_type": "code",
   "execution_count": 66,
   "metadata": {},
   "outputs": [
    {
     "name": "stdout",
     "output_type": "stream",
     "text": [
      "val1_small_std (3 first values): [152.52808536 174.99756666 100.20455344]\n",
      "val2_small_std (3 first values): [236.91235556 232.53766155 230.73703148]\n",
      "val1_large_std (3 first values): [145.27337184 150.96267944 162.29213395]\n",
      "val2_large_std (3 first values): [211.9451626  195.01279275 199.19260386]\n"
     ]
    }
   ],
   "source": [
    "np.random.seed(4)\n",
    "\n",
    "val1_small_std = np.random.normal(mean_1, scale=large_std, size=n)\n",
    "val2_small_std = np.random.normal(mean_2, scale=large_std, size=n)\n",
    "\n",
    "val1_large_std = np.random.normal(mean_1, scale=small_std, size=n)\n",
    "val2_large_std = np.random.normal(mean_2, scale=small_std, size=n)\n",
    "\n",
    "print(\"val1_small_std (3 first values):\", val1_small_std[:3])\n",
    "print(\"val2_small_std (3 first values):\", val2_small_std[:3])\n",
    "print(\"val1_large_std (3 first values):\", val1_large_std[:3])\n",
    "print(\"val2_large_std (3 first values):\", val2_large_std[:3])"
   ]
  },
  {
   "cell_type": "code",
   "execution_count": 67,
   "metadata": {},
   "outputs": [
    {
     "data": {
      "image/png": "[encoded data removed]",
      "text/plain": [
       "<Figure size 432x288 with 4 Axes>"
      ]
     },
     "metadata": {
      "needs_background": "light"
     },
     "output_type": "display_data"
    }
   ],
   "source": [
    "fig, axes = plt.subplots(ncols=2, nrows=2)\n",
    "\n",
    "i = 0\n",
    "for val1, val2 in zip((val1_small_std, val1_large_std), (val2_small_std, val2_large_std)):\n",
    "\n",
    "    ax = axes[i, 0]\n",
    "    sns.distplot(val1, ax=ax, color=\"C0\")\n",
    "    sns.distplot(val2, ax=ax, color=\"C1\")\n",
    "\n",
    "    ax.axvline(np.mean(val1), label=\"mean\", color='C0', lw=2, ls='--')\n",
    "    ax.axvline(np.mean(val2), label=\"mean\", color='C1', lw=2, ls='--')\n",
    "\n",
    "    ax.set_ylabel(\"Proportion\")\n",
    "    ax.set_xlabel(\"value\")\n",
    "\n",
    "    ax = axes[i, 1]\n",
    "\n",
    "    df = pd.DataFrame({\n",
    "        \"x\": val1,\n",
    "        \"y\": val2\n",
    "    }).melt()\n",
    "\n",
    "    sns.barplot(x=\"variable\", y=\"value\", ax=ax, data=df, ci=\"sd\")\n",
    "\n",
    "    ax.set_ylim(0, max(mean_1, mean_2) + large_std * 1.25)\n",
    "    ax.axhline(mean_1, ls='--', color='black', alpha=0.1, lw=2)\n",
    "    ax.axhline(mean_2, ls='--', color='black', alpha=0.1, lw=2)\n",
    "\n",
    "    i += 1\n",
    "\n",
    "plt.tight_layout()\n",
    "plt.show()"
   ]
  },
  {
   "cell_type": "markdown",
   "metadata": {},
   "source": [
    "### 5.3 Compute inferential statistics"
   ]
  },
  {
   "cell_type": "markdown",
   "metadata": {},
   "source": [
    "...not before next week!"
   ]
  },
  {
   "cell_type": "markdown",
   "metadata": {},
   "source": [
    "### 5.4 Discuss the implications of your results"
   ]
  },
  {
   "cell_type": "markdown",
   "metadata": {},
   "source": [
    "### 5.4.1 Internal vs external validity"
   ]
  },
  {
   "cell_type": "markdown",
   "metadata": {},
   "source": [
    "<div class=\"alert alert-block alert-danger\">\n",
    "<h2><img src=\"img/logo/warning.png\" width=\"20\" align=\"left\">&nbsp;Important</h2>\n",
    "    <br>\n",
    "    Differentiate <b>internal</b> and <b>external</b> validity\n",
    "    </div>"
   ]
  },
  {
   "cell_type": "markdown",
   "metadata": {},
   "source": [
    "* <b>Internal</b>: relative to your data; are the manipulation that you did the (main) <b>cause</b> of what you observe?\n",
    "* <b>External</b>: relative to the relation between your data and the outside world; can we <b>generalize</b> what you observe?"
   ]
  },
  {
   "cell_type": "code",
   "execution_count": null,
   "metadata": {},
   "outputs": [],
   "source": [
    "### 5.4.2 Internal validity: Check for counfound factors"
   ]
  },
  {
   "cell_type": "markdown",
   "metadata": {},
   "source": [
    "...correlation is not causation\n",
    "\n",
    "http://www.tylervigen.com/spurious-correlations\n",
    "\n",
    "6.3 Internal validity: Misrepresentation leads to misinterpretation\n",
    "\n",
    "...Represent the raw data before anything else\n",
    "\n",
    "...even descriptive statistics can induce in error\n",
    "\n",
    "https://www.autodeskresearch.com/publications/samestats\n",
    "\n",
    "...another example\n",
    "\n",
    "https://github.com/scienceetonnante/Reinhart-Rogoff\n",
    "\n",
    "6.4 External validity\n",
    "\n",
    "6.5 In case of tie\n",
    "\n",
    "Occam's razor\n",
    "\n",
    "\n"
   ]
  },
  {
   "cell_type": "code",
   "execution_count": null,
   "metadata": {},
   "outputs": [],
   "source": []
  },
  {
   "cell_type": "code",
   "execution_count": null,
   "metadata": {},
   "outputs": [],
   "source": []
  },
  {
   "cell_type": "code",
   "execution_count": null,
   "metadata": {},
   "outputs": [],
   "source": []
  },
  {
   "cell_type": "markdown",
   "metadata": {},
   "source": [
    "## Conclusive Remarks and a Few Takeaways\n",
    "<a href=\"#Course-Overview\">Course Overview</a>\n",
    "\n",
    "<div class=\"alert alert-block alert-success\">\n",
    "<h2><img src=\"img/logo/goal.png\" width=\"20\" align=\"left\">&nbsp;Learning objectives</h2>\n",
    "    <br>Learn:\n",
    "    <ul>\n",
    "        <li>How to ... (see <a href=\"#1.-How-to-build-an-experiment\" class=\"alert-link\">Section 1</a>);\n",
    "    </ul>\n",
    "</div>\n"
   ]
  },
  {
   "cell_type": "markdown",
   "metadata": {},
   "source": [
    "## Additional material\n",
    "<a href=\"#Course-Overview\">Course Overview</a>"
   ]
  },
  {
   "cell_type": "markdown",
   "metadata": {},
   "source": [
    "### Reinhart &amp; Rogoff (2010)\n",
    "\n",
    "From https://scienceetonnante.com/2020/04/17/austerite-excel/ (in French) and corresponding GitHub repo: https://github.com/scienceetonnante/Reinhart-Rogoff.\n",
    "\n",
    "For a reproduction of the error, see: https://www.youtube.com/watch?v=ItGMz0ERvcw.\n",
    "\n",
    "<a href=\"https://www.dropbox.com/s/aw3yb8u2mvr599p/Reinhart%20and%20Rogoff.xlsx?dl=0\">Original data</a>\n",
    "\n",
    "Reinhart, C. M., &amp; Rogoff, K. S. (2010). Growth in a Time of Debt. American economic review, 100(2), 573-78.\n",
    "\n",
    "Herndon, T., Ash, M., &amp; Pollin, R. (2014). Does high public debt consistently stifle economic growth? A critique of Reinhart and Rogoff. Cambridge journal of economics, 38(2), 257-279."
   ]
  },
  {
   "cell_type": "code",
   "execution_count": null,
   "metadata": {},
   "outputs": [],
   "source": []
  }
 ],
 "metadata": {
  "kernelspec": {
   "display_name": "Python 3",
   "language": "python",
   "name": "python3"
  },
  "language_info": {
   "codemirror_mode": {
    "name": "ipython",
    "version": 3
   },
   "file_extension": ".py",
   "mimetype": "text/x-python",
   "name": "python",
   "nbconvert_exporter": "python",
   "pygments_lexer": "ipython3",
   "version": "3.8.5"
  }
 },
 "nbformat": 4,
 "nbformat_minor": 1
}
